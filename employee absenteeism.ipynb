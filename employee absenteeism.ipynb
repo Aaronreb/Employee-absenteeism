{
 "cells": [
  {
   "cell_type": "markdown",
   "metadata": {},
   "source": [
    "EMPLOYEE ABSENTEESISM"
   ]
  },
  {
   "cell_type": "code",
   "execution_count": 92,
   "metadata": {},
   "outputs": [],
   "source": [
    "import os\n",
    "import pandas as pd\n",
    "import numpy as np\n",
    "import seaborn as sns\n",
    "import matplotlib.pyplot as plt\n",
    "from fancyimpute import KNN\n",
    "from sklearn.model_selection import train_test_split\n",
    "from sklearn.tree import DecisionTreeRegressor\n",
    "from sklearn.model_selection import cross_val_score\n",
    "from sklearn.ensemble import RandomForestRegressor\n",
    "import statsmodels.api as sm\n",
    "from sklearn.linear_model import LinearRegression\n"
   ]
  },
  {
   "cell_type": "code",
   "execution_count": 3,
   "metadata": {},
   "outputs": [],
   "source": [
    "os.chdir(\"C:/Users/ARON/Desktop/edwisor projects/employee absenteesim\")"
   ]
  },
  {
   "cell_type": "code",
   "execution_count": 4,
   "metadata": {},
   "outputs": [
    {
     "data": {
      "text/plain": [
       "'C:\\\\Users\\\\ARON\\\\Desktop\\\\edwisor projects\\\\employee absenteesim'"
      ]
     },
     "execution_count": 4,
     "metadata": {},
     "output_type": "execute_result"
    }
   ],
   "source": [
    "os.getcwd()"
   ]
  },
  {
   "cell_type": "code",
   "execution_count": 5,
   "metadata": {},
   "outputs": [],
   "source": [
    "data=pd.read_excel(\"Absenteeism_at_work_Project (6).xlsx\")\n",
    "data_original=data.copy()"
   ]
  },
  {
   "cell_type": "code",
   "execution_count": 8,
   "metadata": {},
   "outputs": [
    {
     "data": {
      "text/html": [
       "<div>\n",
       "<style scoped>\n",
       "    .dataframe tbody tr th:only-of-type {\n",
       "        vertical-align: middle;\n",
       "    }\n",
       "\n",
       "    .dataframe tbody tr th {\n",
       "        vertical-align: top;\n",
       "    }\n",
       "\n",
       "    .dataframe thead th {\n",
       "        text-align: right;\n",
       "    }\n",
       "</style>\n",
       "<table border=\"1\" class=\"dataframe\">\n",
       "  <thead>\n",
       "    <tr style=\"text-align: right;\">\n",
       "      <th></th>\n",
       "      <th>ID</th>\n",
       "      <th>Reason for absence</th>\n",
       "      <th>Month of absence</th>\n",
       "      <th>Day of the week</th>\n",
       "      <th>Seasons</th>\n",
       "      <th>Transportation expense</th>\n",
       "      <th>Distance from Residence to Work</th>\n",
       "      <th>Service time</th>\n",
       "      <th>Age</th>\n",
       "      <th>Work load Average/day</th>\n",
       "      <th>...</th>\n",
       "      <th>Disciplinary failure</th>\n",
       "      <th>Education</th>\n",
       "      <th>Son</th>\n",
       "      <th>Social drinker</th>\n",
       "      <th>Social smoker</th>\n",
       "      <th>Pet</th>\n",
       "      <th>Weight</th>\n",
       "      <th>Height</th>\n",
       "      <th>Body mass index</th>\n",
       "      <th>Absenteeism time in hours</th>\n",
       "    </tr>\n",
       "  </thead>\n",
       "  <tbody>\n",
       "    <tr>\n",
       "      <th>0</th>\n",
       "      <td>11</td>\n",
       "      <td>26.0</td>\n",
       "      <td>7.0</td>\n",
       "      <td>3</td>\n",
       "      <td>1</td>\n",
       "      <td>289.0</td>\n",
       "      <td>36.0</td>\n",
       "      <td>13.0</td>\n",
       "      <td>33.0</td>\n",
       "      <td>239554.0</td>\n",
       "      <td>...</td>\n",
       "      <td>0.0</td>\n",
       "      <td>1.0</td>\n",
       "      <td>2.0</td>\n",
       "      <td>1.0</td>\n",
       "      <td>0.0</td>\n",
       "      <td>1.0</td>\n",
       "      <td>90.0</td>\n",
       "      <td>172.0</td>\n",
       "      <td>30.0</td>\n",
       "      <td>4.0</td>\n",
       "    </tr>\n",
       "    <tr>\n",
       "      <th>1</th>\n",
       "      <td>36</td>\n",
       "      <td>0.0</td>\n",
       "      <td>7.0</td>\n",
       "      <td>3</td>\n",
       "      <td>1</td>\n",
       "      <td>118.0</td>\n",
       "      <td>13.0</td>\n",
       "      <td>18.0</td>\n",
       "      <td>50.0</td>\n",
       "      <td>239554.0</td>\n",
       "      <td>...</td>\n",
       "      <td>1.0</td>\n",
       "      <td>1.0</td>\n",
       "      <td>1.0</td>\n",
       "      <td>1.0</td>\n",
       "      <td>0.0</td>\n",
       "      <td>0.0</td>\n",
       "      <td>98.0</td>\n",
       "      <td>178.0</td>\n",
       "      <td>31.0</td>\n",
       "      <td>0.0</td>\n",
       "    </tr>\n",
       "    <tr>\n",
       "      <th>2</th>\n",
       "      <td>3</td>\n",
       "      <td>23.0</td>\n",
       "      <td>7.0</td>\n",
       "      <td>4</td>\n",
       "      <td>1</td>\n",
       "      <td>179.0</td>\n",
       "      <td>51.0</td>\n",
       "      <td>18.0</td>\n",
       "      <td>38.0</td>\n",
       "      <td>239554.0</td>\n",
       "      <td>...</td>\n",
       "      <td>0.0</td>\n",
       "      <td>1.0</td>\n",
       "      <td>0.0</td>\n",
       "      <td>1.0</td>\n",
       "      <td>0.0</td>\n",
       "      <td>0.0</td>\n",
       "      <td>89.0</td>\n",
       "      <td>170.0</td>\n",
       "      <td>31.0</td>\n",
       "      <td>2.0</td>\n",
       "    </tr>\n",
       "    <tr>\n",
       "      <th>3</th>\n",
       "      <td>7</td>\n",
       "      <td>7.0</td>\n",
       "      <td>7.0</td>\n",
       "      <td>5</td>\n",
       "      <td>1</td>\n",
       "      <td>279.0</td>\n",
       "      <td>5.0</td>\n",
       "      <td>14.0</td>\n",
       "      <td>39.0</td>\n",
       "      <td>239554.0</td>\n",
       "      <td>...</td>\n",
       "      <td>0.0</td>\n",
       "      <td>1.0</td>\n",
       "      <td>2.0</td>\n",
       "      <td>1.0</td>\n",
       "      <td>1.0</td>\n",
       "      <td>0.0</td>\n",
       "      <td>68.0</td>\n",
       "      <td>168.0</td>\n",
       "      <td>24.0</td>\n",
       "      <td>4.0</td>\n",
       "    </tr>\n",
       "    <tr>\n",
       "      <th>4</th>\n",
       "      <td>11</td>\n",
       "      <td>23.0</td>\n",
       "      <td>7.0</td>\n",
       "      <td>5</td>\n",
       "      <td>1</td>\n",
       "      <td>289.0</td>\n",
       "      <td>36.0</td>\n",
       "      <td>13.0</td>\n",
       "      <td>33.0</td>\n",
       "      <td>239554.0</td>\n",
       "      <td>...</td>\n",
       "      <td>0.0</td>\n",
       "      <td>1.0</td>\n",
       "      <td>2.0</td>\n",
       "      <td>1.0</td>\n",
       "      <td>0.0</td>\n",
       "      <td>1.0</td>\n",
       "      <td>90.0</td>\n",
       "      <td>172.0</td>\n",
       "      <td>30.0</td>\n",
       "      <td>2.0</td>\n",
       "    </tr>\n",
       "    <tr>\n",
       "      <th>5</th>\n",
       "      <td>3</td>\n",
       "      <td>23.0</td>\n",
       "      <td>7.0</td>\n",
       "      <td>6</td>\n",
       "      <td>1</td>\n",
       "      <td>179.0</td>\n",
       "      <td>51.0</td>\n",
       "      <td>18.0</td>\n",
       "      <td>38.0</td>\n",
       "      <td>239554.0</td>\n",
       "      <td>...</td>\n",
       "      <td>0.0</td>\n",
       "      <td>1.0</td>\n",
       "      <td>0.0</td>\n",
       "      <td>1.0</td>\n",
       "      <td>0.0</td>\n",
       "      <td>0.0</td>\n",
       "      <td>89.0</td>\n",
       "      <td>170.0</td>\n",
       "      <td>31.0</td>\n",
       "      <td>NaN</td>\n",
       "    </tr>\n",
       "    <tr>\n",
       "      <th>6</th>\n",
       "      <td>10</td>\n",
       "      <td>22.0</td>\n",
       "      <td>7.0</td>\n",
       "      <td>6</td>\n",
       "      <td>1</td>\n",
       "      <td>NaN</td>\n",
       "      <td>52.0</td>\n",
       "      <td>3.0</td>\n",
       "      <td>28.0</td>\n",
       "      <td>239554.0</td>\n",
       "      <td>...</td>\n",
       "      <td>0.0</td>\n",
       "      <td>1.0</td>\n",
       "      <td>1.0</td>\n",
       "      <td>1.0</td>\n",
       "      <td>0.0</td>\n",
       "      <td>4.0</td>\n",
       "      <td>80.0</td>\n",
       "      <td>172.0</td>\n",
       "      <td>27.0</td>\n",
       "      <td>8.0</td>\n",
       "    </tr>\n",
       "    <tr>\n",
       "      <th>7</th>\n",
       "      <td>20</td>\n",
       "      <td>23.0</td>\n",
       "      <td>7.0</td>\n",
       "      <td>6</td>\n",
       "      <td>1</td>\n",
       "      <td>260.0</td>\n",
       "      <td>50.0</td>\n",
       "      <td>11.0</td>\n",
       "      <td>36.0</td>\n",
       "      <td>239554.0</td>\n",
       "      <td>...</td>\n",
       "      <td>0.0</td>\n",
       "      <td>1.0</td>\n",
       "      <td>4.0</td>\n",
       "      <td>1.0</td>\n",
       "      <td>0.0</td>\n",
       "      <td>0.0</td>\n",
       "      <td>65.0</td>\n",
       "      <td>168.0</td>\n",
       "      <td>23.0</td>\n",
       "      <td>4.0</td>\n",
       "    </tr>\n",
       "    <tr>\n",
       "      <th>8</th>\n",
       "      <td>14</td>\n",
       "      <td>19.0</td>\n",
       "      <td>7.0</td>\n",
       "      <td>2</td>\n",
       "      <td>1</td>\n",
       "      <td>155.0</td>\n",
       "      <td>12.0</td>\n",
       "      <td>14.0</td>\n",
       "      <td>34.0</td>\n",
       "      <td>239554.0</td>\n",
       "      <td>...</td>\n",
       "      <td>0.0</td>\n",
       "      <td>1.0</td>\n",
       "      <td>2.0</td>\n",
       "      <td>1.0</td>\n",
       "      <td>0.0</td>\n",
       "      <td>0.0</td>\n",
       "      <td>95.0</td>\n",
       "      <td>196.0</td>\n",
       "      <td>25.0</td>\n",
       "      <td>40.0</td>\n",
       "    </tr>\n",
       "    <tr>\n",
       "      <th>9</th>\n",
       "      <td>1</td>\n",
       "      <td>22.0</td>\n",
       "      <td>7.0</td>\n",
       "      <td>2</td>\n",
       "      <td>1</td>\n",
       "      <td>235.0</td>\n",
       "      <td>11.0</td>\n",
       "      <td>14.0</td>\n",
       "      <td>37.0</td>\n",
       "      <td>239554.0</td>\n",
       "      <td>...</td>\n",
       "      <td>0.0</td>\n",
       "      <td>3.0</td>\n",
       "      <td>1.0</td>\n",
       "      <td>0.0</td>\n",
       "      <td>0.0</td>\n",
       "      <td>1.0</td>\n",
       "      <td>88.0</td>\n",
       "      <td>172.0</td>\n",
       "      <td>29.0</td>\n",
       "      <td>8.0</td>\n",
       "    </tr>\n",
       "  </tbody>\n",
       "</table>\n",
       "<p>10 rows × 21 columns</p>\n",
       "</div>"
      ],
      "text/plain": [
       "   ID  Reason for absence  Month of absence  Day of the week  Seasons  \\\n",
       "0  11                26.0               7.0                3        1   \n",
       "1  36                 0.0               7.0                3        1   \n",
       "2   3                23.0               7.0                4        1   \n",
       "3   7                 7.0               7.0                5        1   \n",
       "4  11                23.0               7.0                5        1   \n",
       "5   3                23.0               7.0                6        1   \n",
       "6  10                22.0               7.0                6        1   \n",
       "7  20                23.0               7.0                6        1   \n",
       "8  14                19.0               7.0                2        1   \n",
       "9   1                22.0               7.0                2        1   \n",
       "\n",
       "   Transportation expense  Distance from Residence to Work  Service time  \\\n",
       "0                   289.0                             36.0          13.0   \n",
       "1                   118.0                             13.0          18.0   \n",
       "2                   179.0                             51.0          18.0   \n",
       "3                   279.0                              5.0          14.0   \n",
       "4                   289.0                             36.0          13.0   \n",
       "5                   179.0                             51.0          18.0   \n",
       "6                     NaN                             52.0           3.0   \n",
       "7                   260.0                             50.0          11.0   \n",
       "8                   155.0                             12.0          14.0   \n",
       "9                   235.0                             11.0          14.0   \n",
       "\n",
       "    Age  Work load Average/day             ...              \\\n",
       "0  33.0                239554.0            ...               \n",
       "1  50.0                239554.0            ...               \n",
       "2  38.0                239554.0            ...               \n",
       "3  39.0                239554.0            ...               \n",
       "4  33.0                239554.0            ...               \n",
       "5  38.0                239554.0            ...               \n",
       "6  28.0                239554.0            ...               \n",
       "7  36.0                239554.0            ...               \n",
       "8  34.0                239554.0            ...               \n",
       "9  37.0                239554.0            ...               \n",
       "\n",
       "   Disciplinary failure  Education  Son  Social drinker  Social smoker  Pet  \\\n",
       "0                   0.0        1.0  2.0             1.0            0.0  1.0   \n",
       "1                   1.0        1.0  1.0             1.0            0.0  0.0   \n",
       "2                   0.0        1.0  0.0             1.0            0.0  0.0   \n",
       "3                   0.0        1.0  2.0             1.0            1.0  0.0   \n",
       "4                   0.0        1.0  2.0             1.0            0.0  1.0   \n",
       "5                   0.0        1.0  0.0             1.0            0.0  0.0   \n",
       "6                   0.0        1.0  1.0             1.0            0.0  4.0   \n",
       "7                   0.0        1.0  4.0             1.0            0.0  0.0   \n",
       "8                   0.0        1.0  2.0             1.0            0.0  0.0   \n",
       "9                   0.0        3.0  1.0             0.0            0.0  1.0   \n",
       "\n",
       "   Weight  Height  Body mass index  Absenteeism time in hours  \n",
       "0    90.0   172.0             30.0                        4.0  \n",
       "1    98.0   178.0             31.0                        0.0  \n",
       "2    89.0   170.0             31.0                        2.0  \n",
       "3    68.0   168.0             24.0                        4.0  \n",
       "4    90.0   172.0             30.0                        2.0  \n",
       "5    89.0   170.0             31.0                        NaN  \n",
       "6    80.0   172.0             27.0                        8.0  \n",
       "7    65.0   168.0             23.0                        4.0  \n",
       "8    95.0   196.0             25.0                       40.0  \n",
       "9    88.0   172.0             29.0                        8.0  \n",
       "\n",
       "[10 rows x 21 columns]"
      ]
     },
     "execution_count": 8,
     "metadata": {},
     "output_type": "execute_result"
    }
   ],
   "source": [
    "data.head(10)"
   ]
  },
  {
   "cell_type": "code",
   "execution_count": 9,
   "metadata": {},
   "outputs": [
    {
     "data": {
      "text/plain": [
       "Index(['ID', 'Reason for absence', 'Month of absence', 'Day of the week',\n",
       "       'Seasons', 'Transportation expense', 'Distance from Residence to Work',\n",
       "       'Service time', 'Age', 'Work load Average/day ', 'Hit target',\n",
       "       'Disciplinary failure', 'Education', 'Son', 'Social drinker',\n",
       "       'Social smoker', 'Pet', 'Weight', 'Height', 'Body mass index',\n",
       "       'Absenteeism time in hours'],\n",
       "      dtype='object')"
      ]
     },
     "execution_count": 9,
     "metadata": {},
     "output_type": "execute_result"
    }
   ],
   "source": [
    "data.columns"
   ]
  },
  {
   "cell_type": "code",
   "execution_count": 27,
   "metadata": {},
   "outputs": [],
   "source": [
    "data.columns=data.columns.str.replace(' ','')"
   ]
  },
  {
   "cell_type": "code",
   "execution_count": 28,
   "metadata": {},
   "outputs": [
    {
     "data": {
      "text/plain": [
       "Index(['ID', 'Reasonforabsence', 'Monthofabsence', 'Dayoftheweek', 'Seasons',\n",
       "       'Transportationexpense', 'DistancefromResidencetoWork', 'Servicetime',\n",
       "       'Age', 'WorkloadAverage/day', 'Hittarget', 'Disciplinaryfailure',\n",
       "       'Education', 'Son', 'Socialdrinker', 'Socialsmoker', 'Pet', 'Weight',\n",
       "       'Height', 'Bodymassindex', 'Absenteeismtimeinhours'],\n",
       "      dtype='object')"
      ]
     },
     "execution_count": 28,
     "metadata": {},
     "output_type": "execute_result"
    }
   ],
   "source": [
    "data.columns"
   ]
  },
  {
   "cell_type": "code",
   "execution_count": 29,
   "metadata": {},
   "outputs": [
    {
     "data": {
      "text/html": [
       "<div>\n",
       "<style scoped>\n",
       "    .dataframe tbody tr th:only-of-type {\n",
       "        vertical-align: middle;\n",
       "    }\n",
       "\n",
       "    .dataframe tbody tr th {\n",
       "        vertical-align: top;\n",
       "    }\n",
       "\n",
       "    .dataframe thead th {\n",
       "        text-align: right;\n",
       "    }\n",
       "</style>\n",
       "<table border=\"1\" class=\"dataframe\">\n",
       "  <thead>\n",
       "    <tr style=\"text-align: right;\">\n",
       "      <th></th>\n",
       "      <th>ID</th>\n",
       "      <th>Reasonforabsence</th>\n",
       "      <th>Monthofabsence</th>\n",
       "      <th>Dayoftheweek</th>\n",
       "      <th>Seasons</th>\n",
       "      <th>Transportationexpense</th>\n",
       "      <th>DistancefromResidencetoWork</th>\n",
       "      <th>Servicetime</th>\n",
       "      <th>Age</th>\n",
       "      <th>WorkloadAverage/day</th>\n",
       "      <th>...</th>\n",
       "      <th>Disciplinaryfailure</th>\n",
       "      <th>Education</th>\n",
       "      <th>Son</th>\n",
       "      <th>Socialdrinker</th>\n",
       "      <th>Socialsmoker</th>\n",
       "      <th>Pet</th>\n",
       "      <th>Weight</th>\n",
       "      <th>Height</th>\n",
       "      <th>Bodymassindex</th>\n",
       "      <th>Absenteeismtimeinhours</th>\n",
       "    </tr>\n",
       "  </thead>\n",
       "  <tbody>\n",
       "    <tr>\n",
       "      <th>count</th>\n",
       "      <td>740.000000</td>\n",
       "      <td>737.000000</td>\n",
       "      <td>739.000000</td>\n",
       "      <td>740.000000</td>\n",
       "      <td>740.000000</td>\n",
       "      <td>733.000000</td>\n",
       "      <td>737.000000</td>\n",
       "      <td>737.000000</td>\n",
       "      <td>737.000000</td>\n",
       "      <td>730.000000</td>\n",
       "      <td>...</td>\n",
       "      <td>734.000000</td>\n",
       "      <td>730.000000</td>\n",
       "      <td>734.000000</td>\n",
       "      <td>737.000000</td>\n",
       "      <td>736.000000</td>\n",
       "      <td>738.000000</td>\n",
       "      <td>739.000000</td>\n",
       "      <td>726.000000</td>\n",
       "      <td>709.000000</td>\n",
       "      <td>718.000000</td>\n",
       "    </tr>\n",
       "    <tr>\n",
       "      <th>mean</th>\n",
       "      <td>18.017568</td>\n",
       "      <td>19.188602</td>\n",
       "      <td>6.319350</td>\n",
       "      <td>3.914865</td>\n",
       "      <td>2.544595</td>\n",
       "      <td>221.035471</td>\n",
       "      <td>29.667571</td>\n",
       "      <td>12.565807</td>\n",
       "      <td>36.449118</td>\n",
       "      <td>271188.860274</td>\n",
       "      <td>...</td>\n",
       "      <td>0.053134</td>\n",
       "      <td>1.295890</td>\n",
       "      <td>1.017711</td>\n",
       "      <td>0.567164</td>\n",
       "      <td>0.073370</td>\n",
       "      <td>0.746612</td>\n",
       "      <td>79.063599</td>\n",
       "      <td>172.152893</td>\n",
       "      <td>26.684062</td>\n",
       "      <td>6.977716</td>\n",
       "    </tr>\n",
       "    <tr>\n",
       "      <th>std</th>\n",
       "      <td>11.021247</td>\n",
       "      <td>8.437493</td>\n",
       "      <td>3.435948</td>\n",
       "      <td>1.421675</td>\n",
       "      <td>1.111831</td>\n",
       "      <td>66.954179</td>\n",
       "      <td>14.848124</td>\n",
       "      <td>4.389813</td>\n",
       "      <td>6.480148</td>\n",
       "      <td>38981.880873</td>\n",
       "      <td>...</td>\n",
       "      <td>0.224453</td>\n",
       "      <td>0.676965</td>\n",
       "      <td>1.094928</td>\n",
       "      <td>0.495805</td>\n",
       "      <td>0.260919</td>\n",
       "      <td>1.319726</td>\n",
       "      <td>12.868630</td>\n",
       "      <td>6.081065</td>\n",
       "      <td>4.292819</td>\n",
       "      <td>13.476962</td>\n",
       "    </tr>\n",
       "    <tr>\n",
       "      <th>min</th>\n",
       "      <td>1.000000</td>\n",
       "      <td>0.000000</td>\n",
       "      <td>0.000000</td>\n",
       "      <td>2.000000</td>\n",
       "      <td>1.000000</td>\n",
       "      <td>118.000000</td>\n",
       "      <td>5.000000</td>\n",
       "      <td>1.000000</td>\n",
       "      <td>27.000000</td>\n",
       "      <td>205917.000000</td>\n",
       "      <td>...</td>\n",
       "      <td>0.000000</td>\n",
       "      <td>1.000000</td>\n",
       "      <td>0.000000</td>\n",
       "      <td>0.000000</td>\n",
       "      <td>0.000000</td>\n",
       "      <td>0.000000</td>\n",
       "      <td>56.000000</td>\n",
       "      <td>163.000000</td>\n",
       "      <td>19.000000</td>\n",
       "      <td>0.000000</td>\n",
       "    </tr>\n",
       "    <tr>\n",
       "      <th>25%</th>\n",
       "      <td>9.000000</td>\n",
       "      <td>13.000000</td>\n",
       "      <td>3.000000</td>\n",
       "      <td>3.000000</td>\n",
       "      <td>2.000000</td>\n",
       "      <td>179.000000</td>\n",
       "      <td>16.000000</td>\n",
       "      <td>9.000000</td>\n",
       "      <td>31.000000</td>\n",
       "      <td>244387.000000</td>\n",
       "      <td>...</td>\n",
       "      <td>0.000000</td>\n",
       "      <td>1.000000</td>\n",
       "      <td>0.000000</td>\n",
       "      <td>0.000000</td>\n",
       "      <td>0.000000</td>\n",
       "      <td>0.000000</td>\n",
       "      <td>69.000000</td>\n",
       "      <td>169.000000</td>\n",
       "      <td>24.000000</td>\n",
       "      <td>2.000000</td>\n",
       "    </tr>\n",
       "    <tr>\n",
       "      <th>50%</th>\n",
       "      <td>18.000000</td>\n",
       "      <td>23.000000</td>\n",
       "      <td>6.000000</td>\n",
       "      <td>4.000000</td>\n",
       "      <td>3.000000</td>\n",
       "      <td>225.000000</td>\n",
       "      <td>26.000000</td>\n",
       "      <td>13.000000</td>\n",
       "      <td>37.000000</td>\n",
       "      <td>264249.000000</td>\n",
       "      <td>...</td>\n",
       "      <td>0.000000</td>\n",
       "      <td>1.000000</td>\n",
       "      <td>1.000000</td>\n",
       "      <td>1.000000</td>\n",
       "      <td>0.000000</td>\n",
       "      <td>0.000000</td>\n",
       "      <td>83.000000</td>\n",
       "      <td>170.000000</td>\n",
       "      <td>25.000000</td>\n",
       "      <td>3.000000</td>\n",
       "    </tr>\n",
       "    <tr>\n",
       "      <th>75%</th>\n",
       "      <td>28.000000</td>\n",
       "      <td>26.000000</td>\n",
       "      <td>9.000000</td>\n",
       "      <td>5.000000</td>\n",
       "      <td>4.000000</td>\n",
       "      <td>260.000000</td>\n",
       "      <td>50.000000</td>\n",
       "      <td>16.000000</td>\n",
       "      <td>40.000000</td>\n",
       "      <td>284853.000000</td>\n",
       "      <td>...</td>\n",
       "      <td>0.000000</td>\n",
       "      <td>1.000000</td>\n",
       "      <td>2.000000</td>\n",
       "      <td>1.000000</td>\n",
       "      <td>0.000000</td>\n",
       "      <td>1.000000</td>\n",
       "      <td>89.000000</td>\n",
       "      <td>172.000000</td>\n",
       "      <td>31.000000</td>\n",
       "      <td>8.000000</td>\n",
       "    </tr>\n",
       "    <tr>\n",
       "      <th>max</th>\n",
       "      <td>36.000000</td>\n",
       "      <td>28.000000</td>\n",
       "      <td>12.000000</td>\n",
       "      <td>6.000000</td>\n",
       "      <td>4.000000</td>\n",
       "      <td>388.000000</td>\n",
       "      <td>52.000000</td>\n",
       "      <td>29.000000</td>\n",
       "      <td>58.000000</td>\n",
       "      <td>378884.000000</td>\n",
       "      <td>...</td>\n",
       "      <td>1.000000</td>\n",
       "      <td>4.000000</td>\n",
       "      <td>4.000000</td>\n",
       "      <td>1.000000</td>\n",
       "      <td>1.000000</td>\n",
       "      <td>8.000000</td>\n",
       "      <td>108.000000</td>\n",
       "      <td>196.000000</td>\n",
       "      <td>38.000000</td>\n",
       "      <td>120.000000</td>\n",
       "    </tr>\n",
       "  </tbody>\n",
       "</table>\n",
       "<p>8 rows × 21 columns</p>\n",
       "</div>"
      ],
      "text/plain": [
       "               ID  Reasonforabsence  Monthofabsence  Dayoftheweek     Seasons  \\\n",
       "count  740.000000        737.000000      739.000000    740.000000  740.000000   \n",
       "mean    18.017568         19.188602        6.319350      3.914865    2.544595   \n",
       "std     11.021247          8.437493        3.435948      1.421675    1.111831   \n",
       "min      1.000000          0.000000        0.000000      2.000000    1.000000   \n",
       "25%      9.000000         13.000000        3.000000      3.000000    2.000000   \n",
       "50%     18.000000         23.000000        6.000000      4.000000    3.000000   \n",
       "75%     28.000000         26.000000        9.000000      5.000000    4.000000   \n",
       "max     36.000000         28.000000       12.000000      6.000000    4.000000   \n",
       "\n",
       "       Transportationexpense  DistancefromResidencetoWork  Servicetime  \\\n",
       "count             733.000000                   737.000000   737.000000   \n",
       "mean              221.035471                    29.667571    12.565807   \n",
       "std                66.954179                    14.848124     4.389813   \n",
       "min               118.000000                     5.000000     1.000000   \n",
       "25%               179.000000                    16.000000     9.000000   \n",
       "50%               225.000000                    26.000000    13.000000   \n",
       "75%               260.000000                    50.000000    16.000000   \n",
       "max               388.000000                    52.000000    29.000000   \n",
       "\n",
       "              Age  WorkloadAverage/day           ...            \\\n",
       "count  737.000000           730.000000           ...             \n",
       "mean    36.449118        271188.860274           ...             \n",
       "std      6.480148         38981.880873           ...             \n",
       "min     27.000000        205917.000000           ...             \n",
       "25%     31.000000        244387.000000           ...             \n",
       "50%     37.000000        264249.000000           ...             \n",
       "75%     40.000000        284853.000000           ...             \n",
       "max     58.000000        378884.000000           ...             \n",
       "\n",
       "       Disciplinaryfailure   Education         Son  Socialdrinker  \\\n",
       "count           734.000000  730.000000  734.000000     737.000000   \n",
       "mean              0.053134    1.295890    1.017711       0.567164   \n",
       "std               0.224453    0.676965    1.094928       0.495805   \n",
       "min               0.000000    1.000000    0.000000       0.000000   \n",
       "25%               0.000000    1.000000    0.000000       0.000000   \n",
       "50%               0.000000    1.000000    1.000000       1.000000   \n",
       "75%               0.000000    1.000000    2.000000       1.000000   \n",
       "max               1.000000    4.000000    4.000000       1.000000   \n",
       "\n",
       "       Socialsmoker         Pet      Weight      Height  Bodymassindex  \\\n",
       "count    736.000000  738.000000  739.000000  726.000000     709.000000   \n",
       "mean       0.073370    0.746612   79.063599  172.152893      26.684062   \n",
       "std        0.260919    1.319726   12.868630    6.081065       4.292819   \n",
       "min        0.000000    0.000000   56.000000  163.000000      19.000000   \n",
       "25%        0.000000    0.000000   69.000000  169.000000      24.000000   \n",
       "50%        0.000000    0.000000   83.000000  170.000000      25.000000   \n",
       "75%        0.000000    1.000000   89.000000  172.000000      31.000000   \n",
       "max        1.000000    8.000000  108.000000  196.000000      38.000000   \n",
       "\n",
       "       Absenteeismtimeinhours  \n",
       "count              718.000000  \n",
       "mean                 6.977716  \n",
       "std                 13.476962  \n",
       "min                  0.000000  \n",
       "25%                  2.000000  \n",
       "50%                  3.000000  \n",
       "75%                  8.000000  \n",
       "max                120.000000  \n",
       "\n",
       "[8 rows x 21 columns]"
      ]
     },
     "execution_count": 29,
     "metadata": {},
     "output_type": "execute_result"
    }
   ],
   "source": [
    "data.describe()"
   ]
  },
  {
   "cell_type": "code",
   "execution_count": 30,
   "metadata": {},
   "outputs": [
    {
     "data": {
      "text/plain": [
       "pandas.core.frame.DataFrame"
      ]
     },
     "execution_count": 30,
     "metadata": {},
     "output_type": "execute_result"
    }
   ],
   "source": [
    "type(data)"
   ]
  },
  {
   "cell_type": "code",
   "execution_count": 31,
   "metadata": {},
   "outputs": [
    {
     "data": {
      "text/plain": [
       "36"
      ]
     },
     "execution_count": 31,
     "metadata": {},
     "output_type": "execute_result"
    }
   ],
   "source": [
    "data['ID'].nunique()"
   ]
  },
  {
   "cell_type": "code",
   "execution_count": 32,
   "metadata": {},
   "outputs": [
    {
     "data": {
      "text/plain": [
       "3     113\n",
       "28     76\n",
       "34     55\n",
       "22     46\n",
       "20     42\n",
       "11     40\n",
       "15     37\n",
       "36     34\n",
       "24     30\n",
       "14     29\n",
       "33     24\n",
       "10     24\n",
       "1      23\n",
       "17     20\n",
       "5      19\n",
       "18     16\n",
       "13     15\n",
       "25     10\n",
       "6       8\n",
       "9       8\n",
       "23      8\n",
       "27      7\n",
       "30      7\n",
       "12      7\n",
       "7       6\n",
       "2       6\n",
       "29      5\n",
       "26      5\n",
       "32      5\n",
       "31      3\n",
       "19      3\n",
       "21      3\n",
       "16      2\n",
       "8       2\n",
       "35      1\n",
       "4       1\n",
       "Name: ID, dtype: int64"
      ]
     },
     "execution_count": 32,
     "metadata": {},
     "output_type": "execute_result"
    }
   ],
   "source": [
    "data['ID'].value_counts()"
   ]
  },
  {
   "cell_type": "code",
   "execution_count": 13,
   "metadata": {},
   "outputs": [],
   "source": [
    "#from above we see that there are 36 employees, whose data is provided"
   ]
  },
  {
   "cell_type": "code",
   "execution_count": 33,
   "metadata": {},
   "outputs": [
    {
     "name": "stdout",
     "output_type": "stream",
     "text": [
      "ID - 36\n",
      "Reasonforabsence - 28\n",
      "Monthofabsence - 13\n",
      "Dayoftheweek - 5\n",
      "Seasons - 4\n",
      "Transportationexpense - 24\n",
      "DistancefromResidencetoWork - 25\n",
      "Servicetime - 18\n",
      "Age - 22\n",
      "WorkloadAverage/day - 38\n",
      "Hittarget - 13\n",
      "Disciplinaryfailure - 2\n",
      "Education - 4\n",
      "Son - 5\n",
      "Socialdrinker - 2\n",
      "Socialsmoker - 2\n",
      "Pet - 6\n",
      "Weight - 26\n",
      "Height - 14\n",
      "Bodymassindex - 17\n",
      "Absenteeismtimeinhours - 19\n"
     ]
    }
   ],
   "source": [
    "#let us see the no of unique values in the data \n",
    "\n",
    "for i in data.columns:\n",
    "    print(i,'-',len(data[i].value_counts()))"
   ]
  },
  {
   "cell_type": "code",
   "execution_count": 34,
   "metadata": {},
   "outputs": [
    {
     "name": "stdout",
     "output_type": "stream",
     "text": [
      "<class 'pandas.core.frame.DataFrame'>\n",
      "RangeIndex: 740 entries, 0 to 739\n",
      "Data columns (total 21 columns):\n",
      "ID                             740 non-null int64\n",
      "Reasonforabsence               737 non-null float64\n",
      "Monthofabsence                 739 non-null float64\n",
      "Dayoftheweek                   740 non-null int64\n",
      "Seasons                        740 non-null int64\n",
      "Transportationexpense          733 non-null float64\n",
      "DistancefromResidencetoWork    737 non-null float64\n",
      "Servicetime                    737 non-null float64\n",
      "Age                            737 non-null float64\n",
      "WorkloadAverage/day            730 non-null float64\n",
      "Hittarget                      734 non-null float64\n",
      "Disciplinaryfailure            734 non-null float64\n",
      "Education                      730 non-null float64\n",
      "Son                            734 non-null float64\n",
      "Socialdrinker                  737 non-null float64\n",
      "Socialsmoker                   736 non-null float64\n",
      "Pet                            738 non-null float64\n",
      "Weight                         739 non-null float64\n",
      "Height                         726 non-null float64\n",
      "Bodymassindex                  709 non-null float64\n",
      "Absenteeismtimeinhours         718 non-null float64\n",
      "dtypes: float64(18), int64(3)\n",
      "memory usage: 121.5 KB\n"
     ]
    }
   ],
   "source": [
    "data.info()"
   ]
  },
  {
   "cell_type": "code",
   "execution_count": 35,
   "metadata": {},
   "outputs": [],
   "source": [
    "#converting appropriate categorical variable into actual categorical variable \n",
    "\n",
    "data['ID']=data['ID'].astype('category')\n",
    "data['Reasonforabsence']=data['Reasonforabsence'].astype('category')\n",
    "data['Monthofabsence']=data['Monthofabsence'].astype('category')\n",
    "data['Dayoftheweek']=data['Dayoftheweek'].astype('category')\n",
    "data['Seasons']=data['Seasons'].astype('category')\n",
    "data['Disciplinaryfailure']=data['Disciplinaryfailure'].astype('category')\n",
    "data['Education']=data['Education'].astype('category')\n",
    "data['Son']=data['Son'].astype('category')\n",
    "data['Socialdrinker']=data['Socialdrinker'].astype('category')\n",
    "data['Socialsmoker']=data['Socialsmoker'].astype('category')\n",
    "data['Pet']=data['Pet'].astype('category')\n",
    "\n"
   ]
  },
  {
   "cell_type": "markdown",
   "metadata": {},
   "source": [
    "# ANALYSIS "
   ]
  },
  {
   "cell_type": "code",
   "execution_count": 17,
   "metadata": {},
   "outputs": [],
   "source": [
    "#UNIVARIATE\n"
   ]
  },
  {
   "cell_type": "code",
   "execution_count": 36,
   "metadata": {},
   "outputs": [
    {
     "name": "stderr",
     "output_type": "stream",
     "text": [
      "C:\\Users\\ARON\\Anaconda3\\lib\\site-packages\\scipy\\stats\\stats.py:1713: FutureWarning: Using a non-tuple sequence for multidimensional indexing is deprecated; use `arr[tuple(seq)]` instead of `arr[seq]`. In the future this will be interpreted as an array index, `arr[np.array(seq)]`, which will result either in an error or a different result.\n",
      "  return np.add.reduce(sorted[indexer] * weights, axis=axis) / sumval\n",
      "C:\\Users\\ARON\\Anaconda3\\lib\\site-packages\\matplotlib\\axes\\_axes.py:6462: UserWarning: The 'normed' kwarg is deprecated, and has been replaced by the 'density' kwarg.\n",
      "  warnings.warn(\"The 'normed' kwarg is deprecated, and has been \"\n"
     ]
    },
    {
     "data": {
      "text/plain": [
       "<matplotlib.axes._subplots.AxesSubplot at 0x24f13c791d0>"
      ]
     },
     "execution_count": 36,
     "metadata": {},
     "output_type": "execute_result"
    },
    {
     "data": {
      "image/png": "[encoded data removed]",
      "text/plain": [
       "<Figure size 432x288 with 1 Axes>"
      ]
     },
     "metadata": {},
     "output_type": "display_data"
    }
   ],
   "source": [
    "%matplotlib inline\n",
    "df=data.dropna() \n",
    "sns.distplot(df['Absenteeismtimeinhours'])\n",
    "\n",
    "#we see that the variable is towards left which mean it is not normally distrbuted"
   ]
  },
  {
   "cell_type": "code",
   "execution_count": 19,
   "metadata": {},
   "outputs": [],
   "source": [
    "#we see that the data is left skewed"
   ]
  },
  {
   "cell_type": "code",
   "execution_count": 37,
   "metadata": {},
   "outputs": [
    {
     "name": "stderr",
     "output_type": "stream",
     "text": [
      "C:\\Users\\ARON\\Anaconda3\\lib\\site-packages\\scipy\\stats\\stats.py:1713: FutureWarning: Using a non-tuple sequence for multidimensional indexing is deprecated; use `arr[tuple(seq)]` instead of `arr[seq]`. In the future this will be interpreted as an array index, `arr[np.array(seq)]`, which will result either in an error or a different result.\n",
      "  return np.add.reduce(sorted[indexer] * weights, axis=axis) / sumval\n",
      "C:\\Users\\ARON\\Anaconda3\\lib\\site-packages\\matplotlib\\axes\\_axes.py:6462: UserWarning: The 'normed' kwarg is deprecated, and has been replaced by the 'density' kwarg.\n",
      "  warnings.warn(\"The 'normed' kwarg is deprecated, and has been \"\n",
      "C:\\Users\\ARON\\Anaconda3\\lib\\site-packages\\matplotlib\\axes\\_axes.py:6462: UserWarning: The 'normed' kwarg is deprecated, and has been replaced by the 'density' kwarg.\n",
      "  warnings.warn(\"The 'normed' kwarg is deprecated, and has been \"\n",
      "C:\\Users\\ARON\\Anaconda3\\lib\\site-packages\\matplotlib\\axes\\_axes.py:6462: UserWarning: The 'normed' kwarg is deprecated, and has been replaced by the 'density' kwarg.\n",
      "  warnings.warn(\"The 'normed' kwarg is deprecated, and has been \"\n",
      "C:\\Users\\ARON\\Anaconda3\\lib\\site-packages\\matplotlib\\axes\\_axes.py:6462: UserWarning: The 'normed' kwarg is deprecated, and has been replaced by the 'density' kwarg.\n",
      "  warnings.warn(\"The 'normed' kwarg is deprecated, and has been \"\n"
     ]
    },
    {
     "data": {
      "text/plain": [
       "<matplotlib.axes._subplots.AxesSubplot at 0x24f15f8fef0>"
      ]
     },
     "execution_count": 37,
     "metadata": {},
     "output_type": "execute_result"
    },
    {
     "data": {
      "image/png": "[encoded data removed]",
      "text/plain": [
       "<Figure size 432x288 with 4 Axes>"
      ]
     },
     "metadata": {},
     "output_type": "display_data"
    }
   ],
   "source": [
    "plt.figure(1)\n",
    "plt.subplot(221)\n",
    "sns.distplot(df['Transportationexpense'])\n",
    "\n",
    "plt.subplot(222)\n",
    "sns.distplot(df['DistancefromResidencetoWork'])\n",
    "\n",
    "plt.subplot(223)\n",
    "sns.distplot(df['WorkloadAverage/day'])\n",
    "\n",
    "plt.subplot(224)\n",
    "sns.distplot(df['Servicetime'])\n",
    "\n"
   ]
  },
  {
   "cell_type": "code",
   "execution_count": 21,
   "metadata": {},
   "outputs": [
    {
     "name": "stderr",
     "output_type": "stream",
     "text": [
      "C:\\Users\\ARON\\Anaconda3\\lib\\site-packages\\scipy\\stats\\stats.py:1713: FutureWarning: Using a non-tuple sequence for multidimensional indexing is deprecated; use `arr[tuple(seq)]` instead of `arr[seq]`. In the future this will be interpreted as an array index, `arr[np.array(seq)]`, which will result either in an error or a different result.\n",
      "  return np.add.reduce(sorted[indexer] * weights, axis=axis) / sumval\n",
      "C:\\Users\\ARON\\Anaconda3\\lib\\site-packages\\matplotlib\\axes\\_axes.py:6462: UserWarning: The 'normed' kwarg is deprecated, and has been replaced by the 'density' kwarg.\n",
      "  warnings.warn(\"The 'normed' kwarg is deprecated, and has been \"\n",
      "C:\\Users\\ARON\\Anaconda3\\lib\\site-packages\\matplotlib\\axes\\_axes.py:6462: UserWarning: The 'normed' kwarg is deprecated, and has been replaced by the 'density' kwarg.\n",
      "  warnings.warn(\"The 'normed' kwarg is deprecated, and has been \"\n",
      "C:\\Users\\ARON\\Anaconda3\\lib\\site-packages\\matplotlib\\axes\\_axes.py:6462: UserWarning: The 'normed' kwarg is deprecated, and has been replaced by the 'density' kwarg.\n",
      "  warnings.warn(\"The 'normed' kwarg is deprecated, and has been \"\n",
      "C:\\Users\\ARON\\Anaconda3\\lib\\site-packages\\matplotlib\\axes\\_axes.py:6462: UserWarning: The 'normed' kwarg is deprecated, and has been replaced by the 'density' kwarg.\n",
      "  warnings.warn(\"The 'normed' kwarg is deprecated, and has been \"\n"
     ]
    },
    {
     "data": {
      "text/plain": [
       "<matplotlib.axes._subplots.AxesSubplot at 0x279f88b0780>"
      ]
     },
     "execution_count": 21,
     "metadata": {},
     "output_type": "execute_result"
    },
    {
     "data": {
      "image/png": "[encoded data removed]",
      "text/plain": [
       "<Figure size 432x288 with 4 Axes>"
      ]
     },
     "metadata": {},
     "output_type": "display_data"
    }
   ],
   "source": [
    "plt.figure(1)\n",
    "plt.subplot(221)\n",
    "sns.distplot(df['Age'])\n",
    "\n",
    "plt.subplot(222)\n",
    "sns.distplot(df['Weight'])\n",
    "plt.subplot(223)\n",
    "sns.distplot(df['Hittarget'])\n",
    "plt.subplot(224)\n",
    "sns.distplot(df['Height'])"
   ]
  },
  {
   "cell_type": "code",
   "execution_count": 22,
   "metadata": {},
   "outputs": [
    {
     "data": {
      "image/png": "[encoded data removed]",
      "text/plain": [
       "<Figure size 1440x720 with 4 Axes>"
      ]
     },
     "metadata": {},
     "output_type": "display_data"
    }
   ],
   "source": [
    "#let us see categorical variables\n",
    "\n",
    "plt.figure(1)\n",
    "plt.subplot(221)\n",
    "data['ID'].value_counts(normalize=True).plot.bar(figsize=(20,10), title= 'ID')\n",
    "\n",
    "plt.subplot(222)\n",
    "data['Reasonforabsence'].value_counts(normalize=True).plot.bar(title= 'Reasonforabsence')\n",
    "\n",
    "plt.subplot(223)\n",
    "data['Monthofabsence'].value_counts(normalize=True).plot.bar(title= 'Monthofabsence')\n",
    "\n",
    "plt.subplot(224)\n",
    "data['Seasons'].value_counts(normalize=True).plot.bar(title= 'Seasons')\n",
    "\n",
    "plt.show()"
   ]
  },
  {
   "cell_type": "code",
   "execution_count": 23,
   "metadata": {},
   "outputs": [
    {
     "data": {
      "text/plain": [
       "Index(['ID', 'Reasonforabsence', 'Monthofabsence', 'Dayoftheweek', 'Seasons',\n",
       "       'Transportationexpense', 'DistancefromResidencetoWork', 'Servicetime',\n",
       "       'Age', 'WorkloadAverage/day', 'Hittarget', 'Disciplinaryfailure',\n",
       "       'Education', 'Son', 'Socialdrinker', 'Socialsmoker', 'Pet', 'Weight',\n",
       "       'Height', 'Bodymassindex', 'Absenteeismtimeinhours'],\n",
       "      dtype='object')"
      ]
     },
     "execution_count": 23,
     "metadata": {},
     "output_type": "execute_result"
    }
   ],
   "source": [
    "data.columns"
   ]
  },
  {
   "cell_type": "code",
   "execution_count": 38,
   "metadata": {},
   "outputs": [
    {
     "data": {
      "image/png": "[encoded data removed]",
      "text/plain": [
       "<Figure size 1440x720 with 4 Axes>"
      ]
     },
     "metadata": {},
     "output_type": "display_data"
    }
   ],
   "source": [
    "plt.figure(1)\n",
    "plt.subplot(221)\n",
    "data['Disciplinaryfailure'].value_counts(normalize=True).plot.bar(figsize=(20,10), title= 'Disciplinaryfailure')\n",
    "\n",
    "plt.subplot(222)\n",
    "data['Education'].value_counts(normalize=True).plot.bar(title= 'Education')\n",
    "\n",
    "plt.subplot(223)\n",
    "data['Son'].value_counts(normalize=True).plot.bar(title= 'Son')\n",
    "\n",
    "plt.subplot(224)\n",
    "data['Pet'].value_counts(normalize=True).plot.bar(title= 'Pet')\n",
    "\n",
    "plt.show()"
   ]
  },
  {
   "cell_type": "code",
   "execution_count": 39,
   "metadata": {},
   "outputs": [
    {
     "data": {
      "text/plain": [
       "<matplotlib.axes._subplots.AxesSubplot at 0x24f166b5f98>"
      ]
     },
     "execution_count": 39,
     "metadata": {},
     "output_type": "execute_result"
    },
    {
     "data": {
      "image/png": "[encoded data removed]",
      "text/plain": [
       "<Figure size 1440x720 with 2 Axes>"
      ]
     },
     "metadata": {},
     "output_type": "display_data"
    }
   ],
   "source": [
    "plt.figure(1)\n",
    "plt.subplot(221)\n",
    "data['Socialdrinker'].value_counts(normalize=True).plot.bar(figsize=(20,10), title= 'Socialdrinker')\n",
    "\n",
    "plt.subplot(222)\n",
    "data['Socialsmoker'].value_counts(normalize=True).plot.bar(title= 'Socialsmoker')\n",
    "\n",
    "#there are many employees who doesnt smokw"
   ]
  },
  {
   "cell_type": "code",
   "execution_count": 26,
   "metadata": {},
   "outputs": [],
   "source": [
    "#bivariate\n",
    "\n"
   ]
  },
  {
   "cell_type": "code",
   "execution_count": 40,
   "metadata": {},
   "outputs": [
    {
     "data": {
      "text/plain": [
       "Index(['ID', 'Reasonforabsence', 'Monthofabsence', 'Dayoftheweek', 'Seasons',\n",
       "       'Transportationexpense', 'DistancefromResidencetoWork', 'Servicetime',\n",
       "       'Age', 'WorkloadAverage/day', 'Hittarget', 'Disciplinaryfailure',\n",
       "       'Education', 'Son', 'Socialdrinker', 'Socialsmoker', 'Pet', 'Weight',\n",
       "       'Height', 'Bodymassindex', 'Absenteeismtimeinhours'],\n",
       "      dtype='object')"
      ]
     },
     "execution_count": 40,
     "metadata": {},
     "output_type": "execute_result"
    }
   ],
   "source": [
    "data.columns"
   ]
  },
  {
   "cell_type": "code",
   "execution_count": 41,
   "metadata": {},
   "outputs": [
    {
     "name": "stderr",
     "output_type": "stream",
     "text": [
      "C:\\Users\\ARON\\Anaconda3\\lib\\site-packages\\scipy\\stats\\stats.py:1713: FutureWarning: Using a non-tuple sequence for multidimensional indexing is deprecated; use `arr[tuple(seq)]` instead of `arr[seq]`. In the future this will be interpreted as an array index, `arr[np.array(seq)]`, which will result either in an error or a different result.\n",
      "  return np.add.reduce(sorted[indexer] * weights, axis=axis) / sumval\n",
      "C:\\Users\\ARON\\Anaconda3\\lib\\site-packages\\matplotlib\\axes\\_axes.py:6462: UserWarning: The 'normed' kwarg is deprecated, and has been replaced by the 'density' kwarg.\n",
      "  warnings.warn(\"The 'normed' kwarg is deprecated, and has been \"\n",
      "C:\\Users\\ARON\\Anaconda3\\lib\\site-packages\\matplotlib\\axes\\_axes.py:6462: UserWarning: The 'normed' kwarg is deprecated, and has been replaced by the 'density' kwarg.\n",
      "  warnings.warn(\"The 'normed' kwarg is deprecated, and has been \"\n"
     ]
    },
    {
     "data": {
      "text/plain": [
       "<seaborn.axisgrid.JointGrid at 0x24f162d2e10>"
      ]
     },
     "execution_count": 41,
     "metadata": {},
     "output_type": "execute_result"
    },
    {
     "data": {
      "image/png": "[encoded data removed]",
      "text/plain": [
       "<Figure size 432x432 with 3 Axes>"
      ]
     },
     "metadata": {},
     "output_type": "display_data"
    }
   ],
   "source": [
    "sns.jointplot(x='Seasons',y='Absenteeismtimeinhours',data=data)"
   ]
  },
  {
   "cell_type": "code",
   "execution_count": 42,
   "metadata": {},
   "outputs": [
    {
     "name": "stderr",
     "output_type": "stream",
     "text": [
      "C:\\Users\\ARON\\Anaconda3\\lib\\site-packages\\scipy\\stats\\stats.py:1713: FutureWarning: Using a non-tuple sequence for multidimensional indexing is deprecated; use `arr[tuple(seq)]` instead of `arr[seq]`. In the future this will be interpreted as an array index, `arr[np.array(seq)]`, which will result either in an error or a different result.\n",
      "  return np.add.reduce(sorted[indexer] * weights, axis=axis) / sumval\n",
      "C:\\Users\\ARON\\Anaconda3\\lib\\site-packages\\matplotlib\\axes\\_axes.py:6462: UserWarning: The 'normed' kwarg is deprecated, and has been replaced by the 'density' kwarg.\n",
      "  warnings.warn(\"The 'normed' kwarg is deprecated, and has been \"\n",
      "C:\\Users\\ARON\\Anaconda3\\lib\\site-packages\\matplotlib\\axes\\_axes.py:6462: UserWarning: The 'normed' kwarg is deprecated, and has been replaced by the 'density' kwarg.\n",
      "  warnings.warn(\"The 'normed' kwarg is deprecated, and has been \"\n"
     ]
    },
    {
     "data": {
      "text/plain": [
       "<seaborn.axisgrid.JointGrid at 0x24f12bf1588>"
      ]
     },
     "execution_count": 42,
     "metadata": {},
     "output_type": "execute_result"
    },
    {
     "data": {
      "image/png": "[encoded data removed]",
      "text/plain": [
       "<Figure size 432x432 with 3 Axes>"
      ]
     },
     "metadata": {},
     "output_type": "display_data"
    }
   ],
   "source": [
    "sns.jointplot(x='Reasonforabsence',y='Absenteeismtimeinhours',data=data)"
   ]
  },
  {
   "cell_type": "code",
   "execution_count": 30,
   "metadata": {},
   "outputs": [],
   "source": [
    "#most number of absenteeism are because of physiotherapy(27)"
   ]
  },
  {
   "cell_type": "code",
   "execution_count": 43,
   "metadata": {},
   "outputs": [],
   "source": [
    "reason = data.groupby('Reasonforabsence')"
   ]
  },
  {
   "cell_type": "code",
   "execution_count": null,
   "metadata": {},
   "outputs": [],
   "source": []
  },
  {
   "cell_type": "code",
   "execution_count": 44,
   "metadata": {},
   "outputs": [
    {
     "data": {
      "text/plain": [
       "Reasonforabsence\n",
       "0.0     120.0\n",
       "1.0      64.0\n",
       "2.0      24.0\n",
       "3.0       8.0\n",
       "4.0       8.0\n",
       "5.0       8.0\n",
       "6.0     120.0\n",
       "7.0      40.0\n",
       "8.0       8.0\n",
       "9.0     112.0\n",
       "10.0     48.0\n",
       "11.0     40.0\n",
       "12.0    112.0\n",
       "13.0    120.0\n",
       "14.0     40.0\n",
       "15.0      8.0\n",
       "16.0      3.0\n",
       "17.0      8.0\n",
       "18.0     80.0\n",
       "19.0    104.0\n",
       "21.0      8.0\n",
       "22.0     16.0\n",
       "23.0     16.0\n",
       "24.0      8.0\n",
       "25.0      8.0\n",
       "26.0     16.0\n",
       "27.0      3.0\n",
       "28.0     24.0\n",
       "Name: Absenteeismtimeinhours, dtype: float64"
      ]
     },
     "execution_count": 44,
     "metadata": {},
     "output_type": "execute_result"
    }
   ],
   "source": [
    "reason['Absenteeismtimeinhours'].max()"
   ]
  },
  {
   "cell_type": "code",
   "execution_count": 33,
   "metadata": {},
   "outputs": [],
   "source": [
    "# (6),(9)(12)(13)(19) are some of the major reasons of absenteeism"
   ]
  },
  {
   "cell_type": "code",
   "execution_count": null,
   "metadata": {},
   "outputs": [],
   "source": []
  },
  {
   "cell_type": "code",
   "execution_count": null,
   "metadata": {},
   "outputs": [],
   "source": []
  },
  {
   "cell_type": "code",
   "execution_count": null,
   "metadata": {},
   "outputs": [],
   "source": []
  },
  {
   "cell_type": "code",
   "execution_count": 45,
   "metadata": {},
   "outputs": [
    {
     "name": "stderr",
     "output_type": "stream",
     "text": [
      "C:\\Users\\ARON\\Anaconda3\\lib\\site-packages\\scipy\\stats\\stats.py:1713: FutureWarning: Using a non-tuple sequence for multidimensional indexing is deprecated; use `arr[tuple(seq)]` instead of `arr[seq]`. In the future this will be interpreted as an array index, `arr[np.array(seq)]`, which will result either in an error or a different result.\n",
      "  return np.add.reduce(sorted[indexer] * weights, axis=axis) / sumval\n",
      "C:\\Users\\ARON\\Anaconda3\\lib\\site-packages\\matplotlib\\axes\\_axes.py:6462: UserWarning: The 'normed' kwarg is deprecated, and has been replaced by the 'density' kwarg.\n",
      "  warnings.warn(\"The 'normed' kwarg is deprecated, and has been \"\n",
      "C:\\Users\\ARON\\Anaconda3\\lib\\site-packages\\matplotlib\\axes\\_axes.py:6462: UserWarning: The 'normed' kwarg is deprecated, and has been replaced by the 'density' kwarg.\n",
      "  warnings.warn(\"The 'normed' kwarg is deprecated, and has been \"\n"
     ]
    },
    {
     "data": {
      "text/plain": [
       "<seaborn.axisgrid.JointGrid at 0x24f164d8b38>"
      ]
     },
     "execution_count": 45,
     "metadata": {},
     "output_type": "execute_result"
    },
    {
     "data": {
      "image/png": "[encoded data removed]",
      "text/plain": [
       "<Figure size 432x432 with 3 Axes>"
      ]
     },
     "metadata": {},
     "output_type": "display_data"
    }
   ],
   "source": [
    "sns.jointplot(x='Age',y='Absenteeismtimeinhours',data=data)\n"
   ]
  },
  {
   "cell_type": "code",
   "execution_count": 35,
   "metadata": {},
   "outputs": [],
   "source": [
    "#this shows that age is correlated "
   ]
  },
  {
   "cell_type": "code",
   "execution_count": 46,
   "metadata": {},
   "outputs": [
    {
     "name": "stderr",
     "output_type": "stream",
     "text": [
      "C:\\Users\\ARON\\Anaconda3\\lib\\site-packages\\scipy\\stats\\stats.py:1713: FutureWarning: Using a non-tuple sequence for multidimensional indexing is deprecated; use `arr[tuple(seq)]` instead of `arr[seq]`. In the future this will be interpreted as an array index, `arr[np.array(seq)]`, which will result either in an error or a different result.\n",
      "  return np.add.reduce(sorted[indexer] * weights, axis=axis) / sumval\n"
     ]
    },
    {
     "data": {
      "text/plain": [
       "<seaborn.axisgrid.FacetGrid at 0x24f1666d080>"
      ]
     },
     "execution_count": 46,
     "metadata": {},
     "output_type": "execute_result"
    },
    {
     "data": {
      "text/plain": [
       "<Figure size 864x432 with 0 Axes>"
      ]
     },
     "metadata": {},
     "output_type": "display_data"
    },
    {
     "data": {
      "image/png": "[encoded data removed]",
      "text/plain": [
       "<Figure size 793.375x360 with 1 Axes>"
      ]
     },
     "metadata": {},
     "output_type": "display_data"
    }
   ],
   "source": [
    "plt.figure(figsize=(12,6))\n",
    "sns.lmplot(x='Age',y='Absenteeismtimeinhours',data=data,hue='Socialdrinker',size=5,aspect=2)\n",
    "\n"
   ]
  },
  {
   "cell_type": "code",
   "execution_count": 37,
   "metadata": {},
   "outputs": [],
   "source": [
    "# we see that from age 33-45 has more abseenteeism and also they are social drinker so the reason may be they cannot come most of the day because of the hangover"
   ]
  },
  {
   "cell_type": "code",
   "execution_count": 47,
   "metadata": {},
   "outputs": [
    {
     "name": "stderr",
     "output_type": "stream",
     "text": [
      "C:\\Users\\ARON\\Anaconda3\\lib\\site-packages\\scipy\\stats\\stats.py:1713: FutureWarning: Using a non-tuple sequence for multidimensional indexing is deprecated; use `arr[tuple(seq)]` instead of `arr[seq]`. In the future this will be interpreted as an array index, `arr[np.array(seq)]`, which will result either in an error or a different result.\n",
      "  return np.add.reduce(sorted[indexer] * weights, axis=axis) / sumval\n"
     ]
    },
    {
     "data": {
      "text/plain": [
       "<seaborn.axisgrid.FacetGrid at 0x24f16630ac8>"
      ]
     },
     "execution_count": 47,
     "metadata": {},
     "output_type": "execute_result"
    },
    {
     "data": {
      "text/plain": [
       "<Figure size 864x432 with 0 Axes>"
      ]
     },
     "metadata": {},
     "output_type": "display_data"
    },
    {
     "data": {
      "image/png": "[encoded data removed]",
      "text/plain": [
       "<Figure size 794.5x360 with 1 Axes>"
      ]
     },
     "metadata": {},
     "output_type": "display_data"
    }
   ],
   "source": [
    "plt.figure(figsize=(12,6))\n",
    "sns.lmplot(x='Age',y='Absenteeismtimeinhours',data=data,hue='Socialsmoker',size=5,aspect=2)"
   ]
  },
  {
   "cell_type": "code",
   "execution_count": 39,
   "metadata": {},
   "outputs": [],
   "source": [
    "#most of the non smoker stays absent for more hours ans smokers stays present "
   ]
  },
  {
   "cell_type": "code",
   "execution_count": null,
   "metadata": {},
   "outputs": [],
   "source": []
  },
  {
   "cell_type": "code",
   "execution_count": 48,
   "metadata": {},
   "outputs": [
    {
     "name": "stderr",
     "output_type": "stream",
     "text": [
      "C:\\Users\\ARON\\Anaconda3\\lib\\site-packages\\scipy\\stats\\stats.py:1713: FutureWarning: Using a non-tuple sequence for multidimensional indexing is deprecated; use `arr[tuple(seq)]` instead of `arr[seq]`. In the future this will be interpreted as an array index, `arr[np.array(seq)]`, which will result either in an error or a different result.\n",
      "  return np.add.reduce(sorted[indexer] * weights, axis=axis) / sumval\n"
     ]
    },
    {
     "data": {
      "text/plain": [
       "<seaborn.axisgrid.FacetGrid at 0x24f167bedd8>"
      ]
     },
     "execution_count": 48,
     "metadata": {},
     "output_type": "execute_result"
    },
    {
     "data": {
      "text/plain": [
       "<Figure size 864x432 with 0 Axes>"
      ]
     },
     "metadata": {},
     "output_type": "display_data"
    },
    {
     "data": {
      "image/png": "[encoded data removed]",
      "text/plain": [
       "<Figure size 810.625x360 with 1 Axes>"
      ]
     },
     "metadata": {},
     "output_type": "display_data"
    }
   ],
   "source": [
    "plt.figure(figsize=(12,6))\n",
    "sns.lmplot(x='Age',y='Absenteeismtimeinhours',data=data,hue='Monthofabsence',size=5,aspect=2)"
   ]
  },
  {
   "cell_type": "code",
   "execution_count": 41,
   "metadata": {},
   "outputs": [],
   "source": [
    "#most of the employee remains absent in winter \n"
   ]
  },
  {
   "cell_type": "code",
   "execution_count": null,
   "metadata": {},
   "outputs": [],
   "source": []
  },
  {
   "cell_type": "code",
   "execution_count": 42,
   "metadata": {},
   "outputs": [
    {
     "name": "stderr",
     "output_type": "stream",
     "text": [
      "C:\\Users\\ARON\\Anaconda3\\lib\\site-packages\\scipy\\stats\\stats.py:1713: FutureWarning: Using a non-tuple sequence for multidimensional indexing is deprecated; use `arr[tuple(seq)]` instead of `arr[seq]`. In the future this will be interpreted as an array index, `arr[np.array(seq)]`, which will result either in an error or a different result.\n",
      "  return np.add.reduce(sorted[indexer] * weights, axis=axis) / sumval\n",
      "C:\\Users\\ARON\\Anaconda3\\lib\\site-packages\\matplotlib\\axes\\_axes.py:6462: UserWarning: The 'normed' kwarg is deprecated, and has been replaced by the 'density' kwarg.\n",
      "  warnings.warn(\"The 'normed' kwarg is deprecated, and has been \"\n",
      "C:\\Users\\ARON\\Anaconda3\\lib\\site-packages\\matplotlib\\axes\\_axes.py:6462: UserWarning: The 'normed' kwarg is deprecated, and has been replaced by the 'density' kwarg.\n",
      "  warnings.warn(\"The 'normed' kwarg is deprecated, and has been \"\n"
     ]
    },
    {
     "data": {
      "text/plain": [
       "<seaborn.axisgrid.JointGrid at 0x279f9833128>"
      ]
     },
     "execution_count": 42,
     "metadata": {},
     "output_type": "execute_result"
    },
    {
     "data": {
      "image/png": "[encoded data removed]",
      "text/plain": [
       "<Figure size 432x432 with 3 Axes>"
      ]
     },
     "metadata": {},
     "output_type": "display_data"
    }
   ],
   "source": [
    "sns.jointplot(x='Son',y='Absenteeismtimeinhours',data=data)\n"
   ]
  },
  {
   "cell_type": "code",
   "execution_count": 43,
   "metadata": {},
   "outputs": [],
   "source": [
    "# employees having 1 or 2 childern stays absent for long as they might haveto look after them"
   ]
  },
  {
   "cell_type": "markdown",
   "metadata": {},
   "source": [
    "# Mising value"
   ]
  },
  {
   "cell_type": "code",
   "execution_count": 44,
   "metadata": {},
   "outputs": [],
   "source": [
    "#lets see if there are any missing values"
   ]
  },
  {
   "cell_type": "code",
   "execution_count": 49,
   "metadata": {},
   "outputs": [
    {
     "data": {
      "text/plain": [
       "ID                              0\n",
       "Reasonforabsence                3\n",
       "Monthofabsence                  1\n",
       "Dayoftheweek                    0\n",
       "Seasons                         0\n",
       "Transportationexpense           7\n",
       "DistancefromResidencetoWork     3\n",
       "Servicetime                     3\n",
       "Age                             3\n",
       "WorkloadAverage/day            10\n",
       "Hittarget                       6\n",
       "Disciplinaryfailure             6\n",
       "Education                      10\n",
       "Son                             6\n",
       "Socialdrinker                   3\n",
       "Socialsmoker                    4\n",
       "Pet                             2\n",
       "Weight                          1\n",
       "Height                         14\n",
       "Bodymassindex                  31\n",
       "Absenteeismtimeinhours         22\n",
       "dtype: int64"
      ]
     },
     "execution_count": 49,
     "metadata": {},
     "output_type": "execute_result"
    }
   ],
   "source": [
    "data.isnull().sum()"
   ]
  },
  {
   "cell_type": "code",
   "execution_count": 50,
   "metadata": {},
   "outputs": [
    {
     "data": {
      "text/html": [
       "<div>\n",
       "<style scoped>\n",
       "    .dataframe tbody tr th:only-of-type {\n",
       "        vertical-align: middle;\n",
       "    }\n",
       "\n",
       "    .dataframe tbody tr th {\n",
       "        vertical-align: top;\n",
       "    }\n",
       "\n",
       "    .dataframe thead th {\n",
       "        text-align: right;\n",
       "    }\n",
       "</style>\n",
       "<table border=\"1\" class=\"dataframe\">\n",
       "  <thead>\n",
       "    <tr style=\"text-align: right;\">\n",
       "      <th></th>\n",
       "      <th>ID</th>\n",
       "      <th>Reasonforabsence</th>\n",
       "      <th>Monthofabsence</th>\n",
       "      <th>Dayoftheweek</th>\n",
       "      <th>Seasons</th>\n",
       "      <th>Transportationexpense</th>\n",
       "      <th>DistancefromResidencetoWork</th>\n",
       "      <th>Servicetime</th>\n",
       "      <th>Age</th>\n",
       "      <th>WorkloadAverage/day</th>\n",
       "      <th>...</th>\n",
       "      <th>Disciplinaryfailure</th>\n",
       "      <th>Education</th>\n",
       "      <th>Son</th>\n",
       "      <th>Socialdrinker</th>\n",
       "      <th>Socialsmoker</th>\n",
       "      <th>Pet</th>\n",
       "      <th>Weight</th>\n",
       "      <th>Height</th>\n",
       "      <th>Bodymassindex</th>\n",
       "      <th>Absenteeismtimeinhours</th>\n",
       "    </tr>\n",
       "  </thead>\n",
       "  <tbody>\n",
       "    <tr>\n",
       "      <th>0</th>\n",
       "      <td>11</td>\n",
       "      <td>26.0</td>\n",
       "      <td>7.0</td>\n",
       "      <td>3</td>\n",
       "      <td>1</td>\n",
       "      <td>289.0</td>\n",
       "      <td>36.0</td>\n",
       "      <td>13.0</td>\n",
       "      <td>33.0</td>\n",
       "      <td>239554.0</td>\n",
       "      <td>...</td>\n",
       "      <td>0.0</td>\n",
       "      <td>1.0</td>\n",
       "      <td>2.0</td>\n",
       "      <td>1.0</td>\n",
       "      <td>0.0</td>\n",
       "      <td>1.0</td>\n",
       "      <td>90.0</td>\n",
       "      <td>172.0</td>\n",
       "      <td>30.0</td>\n",
       "      <td>4.0</td>\n",
       "    </tr>\n",
       "    <tr>\n",
       "      <th>1</th>\n",
       "      <td>36</td>\n",
       "      <td>0.0</td>\n",
       "      <td>7.0</td>\n",
       "      <td>3</td>\n",
       "      <td>1</td>\n",
       "      <td>118.0</td>\n",
       "      <td>13.0</td>\n",
       "      <td>18.0</td>\n",
       "      <td>50.0</td>\n",
       "      <td>239554.0</td>\n",
       "      <td>...</td>\n",
       "      <td>1.0</td>\n",
       "      <td>1.0</td>\n",
       "      <td>1.0</td>\n",
       "      <td>1.0</td>\n",
       "      <td>0.0</td>\n",
       "      <td>0.0</td>\n",
       "      <td>98.0</td>\n",
       "      <td>178.0</td>\n",
       "      <td>31.0</td>\n",
       "      <td>0.0</td>\n",
       "    </tr>\n",
       "    <tr>\n",
       "      <th>2</th>\n",
       "      <td>3</td>\n",
       "      <td>23.0</td>\n",
       "      <td>7.0</td>\n",
       "      <td>4</td>\n",
       "      <td>1</td>\n",
       "      <td>179.0</td>\n",
       "      <td>51.0</td>\n",
       "      <td>18.0</td>\n",
       "      <td>38.0</td>\n",
       "      <td>239554.0</td>\n",
       "      <td>...</td>\n",
       "      <td>0.0</td>\n",
       "      <td>1.0</td>\n",
       "      <td>0.0</td>\n",
       "      <td>1.0</td>\n",
       "      <td>0.0</td>\n",
       "      <td>0.0</td>\n",
       "      <td>89.0</td>\n",
       "      <td>170.0</td>\n",
       "      <td>31.0</td>\n",
       "      <td>2.0</td>\n",
       "    </tr>\n",
       "    <tr>\n",
       "      <th>3</th>\n",
       "      <td>7</td>\n",
       "      <td>7.0</td>\n",
       "      <td>7.0</td>\n",
       "      <td>5</td>\n",
       "      <td>1</td>\n",
       "      <td>279.0</td>\n",
       "      <td>5.0</td>\n",
       "      <td>14.0</td>\n",
       "      <td>39.0</td>\n",
       "      <td>239554.0</td>\n",
       "      <td>...</td>\n",
       "      <td>0.0</td>\n",
       "      <td>1.0</td>\n",
       "      <td>2.0</td>\n",
       "      <td>1.0</td>\n",
       "      <td>1.0</td>\n",
       "      <td>0.0</td>\n",
       "      <td>68.0</td>\n",
       "      <td>168.0</td>\n",
       "      <td>24.0</td>\n",
       "      <td>4.0</td>\n",
       "    </tr>\n",
       "    <tr>\n",
       "      <th>4</th>\n",
       "      <td>11</td>\n",
       "      <td>23.0</td>\n",
       "      <td>7.0</td>\n",
       "      <td>5</td>\n",
       "      <td>1</td>\n",
       "      <td>289.0</td>\n",
       "      <td>36.0</td>\n",
       "      <td>13.0</td>\n",
       "      <td>33.0</td>\n",
       "      <td>239554.0</td>\n",
       "      <td>...</td>\n",
       "      <td>0.0</td>\n",
       "      <td>1.0</td>\n",
       "      <td>2.0</td>\n",
       "      <td>1.0</td>\n",
       "      <td>0.0</td>\n",
       "      <td>1.0</td>\n",
       "      <td>90.0</td>\n",
       "      <td>172.0</td>\n",
       "      <td>30.0</td>\n",
       "      <td>2.0</td>\n",
       "    </tr>\n",
       "    <tr>\n",
       "      <th>5</th>\n",
       "      <td>3</td>\n",
       "      <td>23.0</td>\n",
       "      <td>7.0</td>\n",
       "      <td>6</td>\n",
       "      <td>1</td>\n",
       "      <td>179.0</td>\n",
       "      <td>51.0</td>\n",
       "      <td>18.0</td>\n",
       "      <td>38.0</td>\n",
       "      <td>239554.0</td>\n",
       "      <td>...</td>\n",
       "      <td>0.0</td>\n",
       "      <td>1.0</td>\n",
       "      <td>0.0</td>\n",
       "      <td>1.0</td>\n",
       "      <td>0.0</td>\n",
       "      <td>0.0</td>\n",
       "      <td>89.0</td>\n",
       "      <td>170.0</td>\n",
       "      <td>31.0</td>\n",
       "      <td>NaN</td>\n",
       "    </tr>\n",
       "    <tr>\n",
       "      <th>6</th>\n",
       "      <td>10</td>\n",
       "      <td>22.0</td>\n",
       "      <td>7.0</td>\n",
       "      <td>6</td>\n",
       "      <td>1</td>\n",
       "      <td>NaN</td>\n",
       "      <td>52.0</td>\n",
       "      <td>3.0</td>\n",
       "      <td>28.0</td>\n",
       "      <td>239554.0</td>\n",
       "      <td>...</td>\n",
       "      <td>0.0</td>\n",
       "      <td>1.0</td>\n",
       "      <td>1.0</td>\n",
       "      <td>1.0</td>\n",
       "      <td>0.0</td>\n",
       "      <td>4.0</td>\n",
       "      <td>80.0</td>\n",
       "      <td>172.0</td>\n",
       "      <td>27.0</td>\n",
       "      <td>8.0</td>\n",
       "    </tr>\n",
       "    <tr>\n",
       "      <th>7</th>\n",
       "      <td>20</td>\n",
       "      <td>23.0</td>\n",
       "      <td>7.0</td>\n",
       "      <td>6</td>\n",
       "      <td>1</td>\n",
       "      <td>260.0</td>\n",
       "      <td>50.0</td>\n",
       "      <td>11.0</td>\n",
       "      <td>36.0</td>\n",
       "      <td>239554.0</td>\n",
       "      <td>...</td>\n",
       "      <td>0.0</td>\n",
       "      <td>1.0</td>\n",
       "      <td>4.0</td>\n",
       "      <td>1.0</td>\n",
       "      <td>0.0</td>\n",
       "      <td>0.0</td>\n",
       "      <td>65.0</td>\n",
       "      <td>168.0</td>\n",
       "      <td>23.0</td>\n",
       "      <td>4.0</td>\n",
       "    </tr>\n",
       "    <tr>\n",
       "      <th>8</th>\n",
       "      <td>14</td>\n",
       "      <td>19.0</td>\n",
       "      <td>7.0</td>\n",
       "      <td>2</td>\n",
       "      <td>1</td>\n",
       "      <td>155.0</td>\n",
       "      <td>12.0</td>\n",
       "      <td>14.0</td>\n",
       "      <td>34.0</td>\n",
       "      <td>239554.0</td>\n",
       "      <td>...</td>\n",
       "      <td>0.0</td>\n",
       "      <td>1.0</td>\n",
       "      <td>2.0</td>\n",
       "      <td>1.0</td>\n",
       "      <td>0.0</td>\n",
       "      <td>0.0</td>\n",
       "      <td>95.0</td>\n",
       "      <td>196.0</td>\n",
       "      <td>25.0</td>\n",
       "      <td>40.0</td>\n",
       "    </tr>\n",
       "    <tr>\n",
       "      <th>9</th>\n",
       "      <td>1</td>\n",
       "      <td>22.0</td>\n",
       "      <td>7.0</td>\n",
       "      <td>2</td>\n",
       "      <td>1</td>\n",
       "      <td>235.0</td>\n",
       "      <td>11.0</td>\n",
       "      <td>14.0</td>\n",
       "      <td>37.0</td>\n",
       "      <td>239554.0</td>\n",
       "      <td>...</td>\n",
       "      <td>0.0</td>\n",
       "      <td>3.0</td>\n",
       "      <td>1.0</td>\n",
       "      <td>0.0</td>\n",
       "      <td>0.0</td>\n",
       "      <td>1.0</td>\n",
       "      <td>88.0</td>\n",
       "      <td>172.0</td>\n",
       "      <td>29.0</td>\n",
       "      <td>8.0</td>\n",
       "    </tr>\n",
       "    <tr>\n",
       "      <th>10</th>\n",
       "      <td>20</td>\n",
       "      <td>1.0</td>\n",
       "      <td>7.0</td>\n",
       "      <td>2</td>\n",
       "      <td>1</td>\n",
       "      <td>260.0</td>\n",
       "      <td>50.0</td>\n",
       "      <td>11.0</td>\n",
       "      <td>36.0</td>\n",
       "      <td>239554.0</td>\n",
       "      <td>...</td>\n",
       "      <td>0.0</td>\n",
       "      <td>1.0</td>\n",
       "      <td>4.0</td>\n",
       "      <td>1.0</td>\n",
       "      <td>0.0</td>\n",
       "      <td>0.0</td>\n",
       "      <td>65.0</td>\n",
       "      <td>168.0</td>\n",
       "      <td>23.0</td>\n",
       "      <td>8.0</td>\n",
       "    </tr>\n",
       "    <tr>\n",
       "      <th>11</th>\n",
       "      <td>20</td>\n",
       "      <td>1.0</td>\n",
       "      <td>7.0</td>\n",
       "      <td>3</td>\n",
       "      <td>1</td>\n",
       "      <td>260.0</td>\n",
       "      <td>50.0</td>\n",
       "      <td>11.0</td>\n",
       "      <td>36.0</td>\n",
       "      <td>239554.0</td>\n",
       "      <td>...</td>\n",
       "      <td>0.0</td>\n",
       "      <td>1.0</td>\n",
       "      <td>4.0</td>\n",
       "      <td>1.0</td>\n",
       "      <td>0.0</td>\n",
       "      <td>0.0</td>\n",
       "      <td>65.0</td>\n",
       "      <td>168.0</td>\n",
       "      <td>23.0</td>\n",
       "      <td>8.0</td>\n",
       "    </tr>\n",
       "    <tr>\n",
       "      <th>12</th>\n",
       "      <td>20</td>\n",
       "      <td>11.0</td>\n",
       "      <td>7.0</td>\n",
       "      <td>4</td>\n",
       "      <td>1</td>\n",
       "      <td>260.0</td>\n",
       "      <td>50.0</td>\n",
       "      <td>11.0</td>\n",
       "      <td>36.0</td>\n",
       "      <td>239554.0</td>\n",
       "      <td>...</td>\n",
       "      <td>0.0</td>\n",
       "      <td>1.0</td>\n",
       "      <td>4.0</td>\n",
       "      <td>1.0</td>\n",
       "      <td>0.0</td>\n",
       "      <td>0.0</td>\n",
       "      <td>65.0</td>\n",
       "      <td>168.0</td>\n",
       "      <td>23.0</td>\n",
       "      <td>8.0</td>\n",
       "    </tr>\n",
       "    <tr>\n",
       "      <th>13</th>\n",
       "      <td>3</td>\n",
       "      <td>11.0</td>\n",
       "      <td>7.0</td>\n",
       "      <td>4</td>\n",
       "      <td>1</td>\n",
       "      <td>179.0</td>\n",
       "      <td>51.0</td>\n",
       "      <td>18.0</td>\n",
       "      <td>38.0</td>\n",
       "      <td>239554.0</td>\n",
       "      <td>...</td>\n",
       "      <td>0.0</td>\n",
       "      <td>1.0</td>\n",
       "      <td>0.0</td>\n",
       "      <td>1.0</td>\n",
       "      <td>0.0</td>\n",
       "      <td>0.0</td>\n",
       "      <td>89.0</td>\n",
       "      <td>170.0</td>\n",
       "      <td>31.0</td>\n",
       "      <td>1.0</td>\n",
       "    </tr>\n",
       "    <tr>\n",
       "      <th>14</th>\n",
       "      <td>3</td>\n",
       "      <td>23.0</td>\n",
       "      <td>7.0</td>\n",
       "      <td>4</td>\n",
       "      <td>1</td>\n",
       "      <td>179.0</td>\n",
       "      <td>51.0</td>\n",
       "      <td>18.0</td>\n",
       "      <td>38.0</td>\n",
       "      <td>239554.0</td>\n",
       "      <td>...</td>\n",
       "      <td>0.0</td>\n",
       "      <td>1.0</td>\n",
       "      <td>0.0</td>\n",
       "      <td>1.0</td>\n",
       "      <td>0.0</td>\n",
       "      <td>0.0</td>\n",
       "      <td>89.0</td>\n",
       "      <td>170.0</td>\n",
       "      <td>NaN</td>\n",
       "      <td>4.0</td>\n",
       "    </tr>\n",
       "    <tr>\n",
       "      <th>15</th>\n",
       "      <td>24</td>\n",
       "      <td>14.0</td>\n",
       "      <td>7.0</td>\n",
       "      <td>6</td>\n",
       "      <td>1</td>\n",
       "      <td>246.0</td>\n",
       "      <td>25.0</td>\n",
       "      <td>16.0</td>\n",
       "      <td>41.0</td>\n",
       "      <td>239554.0</td>\n",
       "      <td>...</td>\n",
       "      <td>0.0</td>\n",
       "      <td>1.0</td>\n",
       "      <td>0.0</td>\n",
       "      <td>1.0</td>\n",
       "      <td>0.0</td>\n",
       "      <td>0.0</td>\n",
       "      <td>67.0</td>\n",
       "      <td>170.0</td>\n",
       "      <td>NaN</td>\n",
       "      <td>NaN</td>\n",
       "    </tr>\n",
       "    <tr>\n",
       "      <th>16</th>\n",
       "      <td>3</td>\n",
       "      <td>23.0</td>\n",
       "      <td>7.0</td>\n",
       "      <td>6</td>\n",
       "      <td>1</td>\n",
       "      <td>NaN</td>\n",
       "      <td>51.0</td>\n",
       "      <td>18.0</td>\n",
       "      <td>38.0</td>\n",
       "      <td>239554.0</td>\n",
       "      <td>...</td>\n",
       "      <td>0.0</td>\n",
       "      <td>1.0</td>\n",
       "      <td>0.0</td>\n",
       "      <td>1.0</td>\n",
       "      <td>0.0</td>\n",
       "      <td>0.0</td>\n",
       "      <td>89.0</td>\n",
       "      <td>170.0</td>\n",
       "      <td>31.0</td>\n",
       "      <td>2.0</td>\n",
       "    </tr>\n",
       "    <tr>\n",
       "      <th>17</th>\n",
       "      <td>3</td>\n",
       "      <td>21.0</td>\n",
       "      <td>7.0</td>\n",
       "      <td>2</td>\n",
       "      <td>1</td>\n",
       "      <td>179.0</td>\n",
       "      <td>51.0</td>\n",
       "      <td>18.0</td>\n",
       "      <td>38.0</td>\n",
       "      <td>239554.0</td>\n",
       "      <td>...</td>\n",
       "      <td>0.0</td>\n",
       "      <td>1.0</td>\n",
       "      <td>0.0</td>\n",
       "      <td>1.0</td>\n",
       "      <td>0.0</td>\n",
       "      <td>0.0</td>\n",
       "      <td>89.0</td>\n",
       "      <td>170.0</td>\n",
       "      <td>31.0</td>\n",
       "      <td>8.0</td>\n",
       "    </tr>\n",
       "    <tr>\n",
       "      <th>18</th>\n",
       "      <td>6</td>\n",
       "      <td>11.0</td>\n",
       "      <td>7.0</td>\n",
       "      <td>5</td>\n",
       "      <td>1</td>\n",
       "      <td>189.0</td>\n",
       "      <td>29.0</td>\n",
       "      <td>13.0</td>\n",
       "      <td>33.0</td>\n",
       "      <td>239554.0</td>\n",
       "      <td>...</td>\n",
       "      <td>0.0</td>\n",
       "      <td>1.0</td>\n",
       "      <td>2.0</td>\n",
       "      <td>0.0</td>\n",
       "      <td>0.0</td>\n",
       "      <td>2.0</td>\n",
       "      <td>69.0</td>\n",
       "      <td>167.0</td>\n",
       "      <td>25.0</td>\n",
       "      <td>8.0</td>\n",
       "    </tr>\n",
       "    <tr>\n",
       "      <th>19</th>\n",
       "      <td>33</td>\n",
       "      <td>23.0</td>\n",
       "      <td>8.0</td>\n",
       "      <td>4</td>\n",
       "      <td>1</td>\n",
       "      <td>248.0</td>\n",
       "      <td>25.0</td>\n",
       "      <td>14.0</td>\n",
       "      <td>47.0</td>\n",
       "      <td>205917.0</td>\n",
       "      <td>...</td>\n",
       "      <td>0.0</td>\n",
       "      <td>1.0</td>\n",
       "      <td>2.0</td>\n",
       "      <td>0.0</td>\n",
       "      <td>0.0</td>\n",
       "      <td>1.0</td>\n",
       "      <td>86.0</td>\n",
       "      <td>165.0</td>\n",
       "      <td>32.0</td>\n",
       "      <td>2.0</td>\n",
       "    </tr>\n",
       "  </tbody>\n",
       "</table>\n",
       "<p>20 rows × 21 columns</p>\n",
       "</div>"
      ],
      "text/plain": [
       "    ID Reasonforabsence Monthofabsence Dayoftheweek Seasons  \\\n",
       "0   11             26.0            7.0            3       1   \n",
       "1   36              0.0            7.0            3       1   \n",
       "2    3             23.0            7.0            4       1   \n",
       "3    7              7.0            7.0            5       1   \n",
       "4   11             23.0            7.0            5       1   \n",
       "5    3             23.0            7.0            6       1   \n",
       "6   10             22.0            7.0            6       1   \n",
       "7   20             23.0            7.0            6       1   \n",
       "8   14             19.0            7.0            2       1   \n",
       "9    1             22.0            7.0            2       1   \n",
       "10  20              1.0            7.0            2       1   \n",
       "11  20              1.0            7.0            3       1   \n",
       "12  20             11.0            7.0            4       1   \n",
       "13   3             11.0            7.0            4       1   \n",
       "14   3             23.0            7.0            4       1   \n",
       "15  24             14.0            7.0            6       1   \n",
       "16   3             23.0            7.0            6       1   \n",
       "17   3             21.0            7.0            2       1   \n",
       "18   6             11.0            7.0            5       1   \n",
       "19  33             23.0            8.0            4       1   \n",
       "\n",
       "    Transportationexpense  DistancefromResidencetoWork  Servicetime   Age  \\\n",
       "0                   289.0                         36.0         13.0  33.0   \n",
       "1                   118.0                         13.0         18.0  50.0   \n",
       "2                   179.0                         51.0         18.0  38.0   \n",
       "3                   279.0                          5.0         14.0  39.0   \n",
       "4                   289.0                         36.0         13.0  33.0   \n",
       "5                   179.0                         51.0         18.0  38.0   \n",
       "6                     NaN                         52.0          3.0  28.0   \n",
       "7                   260.0                         50.0         11.0  36.0   \n",
       "8                   155.0                         12.0         14.0  34.0   \n",
       "9                   235.0                         11.0         14.0  37.0   \n",
       "10                  260.0                         50.0         11.0  36.0   \n",
       "11                  260.0                         50.0         11.0  36.0   \n",
       "12                  260.0                         50.0         11.0  36.0   \n",
       "13                  179.0                         51.0         18.0  38.0   \n",
       "14                  179.0                         51.0         18.0  38.0   \n",
       "15                  246.0                         25.0         16.0  41.0   \n",
       "16                    NaN                         51.0         18.0  38.0   \n",
       "17                  179.0                         51.0         18.0  38.0   \n",
       "18                  189.0                         29.0         13.0  33.0   \n",
       "19                  248.0                         25.0         14.0  47.0   \n",
       "\n",
       "    WorkloadAverage/day           ...            Disciplinaryfailure  \\\n",
       "0              239554.0           ...                            0.0   \n",
       "1              239554.0           ...                            1.0   \n",
       "2              239554.0           ...                            0.0   \n",
       "3              239554.0           ...                            0.0   \n",
       "4              239554.0           ...                            0.0   \n",
       "5              239554.0           ...                            0.0   \n",
       "6              239554.0           ...                            0.0   \n",
       "7              239554.0           ...                            0.0   \n",
       "8              239554.0           ...                            0.0   \n",
       "9              239554.0           ...                            0.0   \n",
       "10             239554.0           ...                            0.0   \n",
       "11             239554.0           ...                            0.0   \n",
       "12             239554.0           ...                            0.0   \n",
       "13             239554.0           ...                            0.0   \n",
       "14             239554.0           ...                            0.0   \n",
       "15             239554.0           ...                            0.0   \n",
       "16             239554.0           ...                            0.0   \n",
       "17             239554.0           ...                            0.0   \n",
       "18             239554.0           ...                            0.0   \n",
       "19             205917.0           ...                            0.0   \n",
       "\n",
       "   Education  Son Socialdrinker Socialsmoker  Pet Weight  Height  \\\n",
       "0        1.0  2.0           1.0          0.0  1.0   90.0   172.0   \n",
       "1        1.0  1.0           1.0          0.0  0.0   98.0   178.0   \n",
       "2        1.0  0.0           1.0          0.0  0.0   89.0   170.0   \n",
       "3        1.0  2.0           1.0          1.0  0.0   68.0   168.0   \n",
       "4        1.0  2.0           1.0          0.0  1.0   90.0   172.0   \n",
       "5        1.0  0.0           1.0          0.0  0.0   89.0   170.0   \n",
       "6        1.0  1.0           1.0          0.0  4.0   80.0   172.0   \n",
       "7        1.0  4.0           1.0          0.0  0.0   65.0   168.0   \n",
       "8        1.0  2.0           1.0          0.0  0.0   95.0   196.0   \n",
       "9        3.0  1.0           0.0          0.0  1.0   88.0   172.0   \n",
       "10       1.0  4.0           1.0          0.0  0.0   65.0   168.0   \n",
       "11       1.0  4.0           1.0          0.0  0.0   65.0   168.0   \n",
       "12       1.0  4.0           1.0          0.0  0.0   65.0   168.0   \n",
       "13       1.0  0.0           1.0          0.0  0.0   89.0   170.0   \n",
       "14       1.0  0.0           1.0          0.0  0.0   89.0   170.0   \n",
       "15       1.0  0.0           1.0          0.0  0.0   67.0   170.0   \n",
       "16       1.0  0.0           1.0          0.0  0.0   89.0   170.0   \n",
       "17       1.0  0.0           1.0          0.0  0.0   89.0   170.0   \n",
       "18       1.0  2.0           0.0          0.0  2.0   69.0   167.0   \n",
       "19       1.0  2.0           0.0          0.0  1.0   86.0   165.0   \n",
       "\n",
       "    Bodymassindex  Absenteeismtimeinhours  \n",
       "0            30.0                     4.0  \n",
       "1            31.0                     0.0  \n",
       "2            31.0                     2.0  \n",
       "3            24.0                     4.0  \n",
       "4            30.0                     2.0  \n",
       "5            31.0                     NaN  \n",
       "6            27.0                     8.0  \n",
       "7            23.0                     4.0  \n",
       "8            25.0                    40.0  \n",
       "9            29.0                     8.0  \n",
       "10           23.0                     8.0  \n",
       "11           23.0                     8.0  \n",
       "12           23.0                     8.0  \n",
       "13           31.0                     1.0  \n",
       "14            NaN                     4.0  \n",
       "15            NaN                     NaN  \n",
       "16           31.0                     2.0  \n",
       "17           31.0                     8.0  \n",
       "18           25.0                     8.0  \n",
       "19           32.0                     2.0  \n",
       "\n",
       "[20 rows x 21 columns]"
      ]
     },
     "execution_count": 50,
     "metadata": {},
     "output_type": "execute_result"
    }
   ],
   "source": [
    "data.head(20)"
   ]
  },
  {
   "cell_type": "code",
   "execution_count": null,
   "metadata": {},
   "outputs": [],
   "source": []
  },
  {
   "cell_type": "code",
   "execution_count": 47,
   "metadata": {},
   "outputs": [],
   "source": [
    "#create missing value \n",
    "#original=179  By mean= 221   median=221  knn= 221\n",
    "\n",
    "#data['Transportation expense'].loc[5]\n",
    "#data['Transportation expense'].loc[5]=np.nan\n",
    "\n",
    "#Impute with mean\n",
    "#data['Transportation expense']=data['Transportation expense'].fillna(data['Transportation expense']).mean()\n",
    "\n",
    "#Impute with median\n",
    "#data['Transportation expense']=data['Transportation expense'].fillna(data['Transportation expense']).median()"
   ]
  },
  {
   "cell_type": "code",
   "execution_count": 51,
   "metadata": {},
   "outputs": [
    {
     "name": "stdout",
     "output_type": "stream",
     "text": [
      "Imputing row 1/740 with 0 missing, elapsed time: 0.149\n",
      "Imputing row 101/740 with 1 missing, elapsed time: 0.153\n",
      "Imputing row 201/740 with 0 missing, elapsed time: 0.155\n",
      "Imputing row 301/740 with 0 missing, elapsed time: 0.155\n",
      "Imputing row 401/740 with 0 missing, elapsed time: 0.155\n",
      "Imputing row 501/740 with 0 missing, elapsed time: 0.159\n",
      "Imputing row 601/740 with 0 missing, elapsed time: 0.159\n",
      "Imputing row 701/740 with 0 missing, elapsed time: 0.159\n"
     ]
    }
   ],
   "source": [
    "data= pd.DataFrame(KNN(k = 3).complete(data), columns = data.columns)\n"
   ]
  },
  {
   "cell_type": "code",
   "execution_count": 49,
   "metadata": {},
   "outputs": [],
   "source": [
    "#from above analysis we see that all the methods gives us same values, so we freeze KNN"
   ]
  },
  {
   "cell_type": "code",
   "execution_count": 52,
   "metadata": {},
   "outputs": [
    {
     "data": {
      "text/plain": [
       "ID                             0\n",
       "Reasonforabsence               0\n",
       "Monthofabsence                 0\n",
       "Dayoftheweek                   0\n",
       "Seasons                        0\n",
       "Transportationexpense          0\n",
       "DistancefromResidencetoWork    0\n",
       "Servicetime                    0\n",
       "Age                            0\n",
       "WorkloadAverage/day            0\n",
       "Hittarget                      0\n",
       "Disciplinaryfailure            0\n",
       "Education                      0\n",
       "Son                            0\n",
       "Socialdrinker                  0\n",
       "Socialsmoker                   0\n",
       "Pet                            0\n",
       "Weight                         0\n",
       "Height                         0\n",
       "Bodymassindex                  0\n",
       "Absenteeismtimeinhours         0\n",
       "dtype: int64"
      ]
     },
     "execution_count": 52,
     "metadata": {},
     "output_type": "execute_result"
    }
   ],
   "source": [
    "data.isnull().sum()"
   ]
  },
  {
   "cell_type": "code",
   "execution_count": null,
   "metadata": {},
   "outputs": [],
   "source": []
  },
  {
   "cell_type": "markdown",
   "metadata": {},
   "source": [
    "# Outlier analysis"
   ]
  },
  {
   "cell_type": "code",
   "execution_count": 51,
   "metadata": {},
   "outputs": [],
   "source": [
    "#let us check outlier"
   ]
  },
  {
   "cell_type": "code",
   "execution_count": 53,
   "metadata": {},
   "outputs": [
    {
     "data": {
      "text/plain": [
       "<matplotlib.axes._subplots.AxesSubplot at 0x24f169fc358>"
      ]
     },
     "execution_count": 53,
     "metadata": {},
     "output_type": "execute_result"
    },
    {
     "data": {
      "image/png": "[encoded data removed]",
      "text/plain": [
       "<Figure size 432x288 with 4 Axes>"
      ]
     },
     "metadata": {},
     "output_type": "display_data"
    }
   ],
   "source": [
    "plt.figure(1)\n",
    "plt.subplot(221)\n",
    "sns.boxplot(data['Transportationexpense'])\n",
    "\n",
    "plt.subplot(222)\n",
    "sns.boxplot(data['DistancefromResidencetoWork'])\n",
    "\n",
    "plt.subplot(223)\n",
    "sns.boxplot(data['Servicetime'])\n",
    "\n",
    "plt.subplot(224)\n",
    "sns.boxplot(data['Age'])"
   ]
  },
  {
   "cell_type": "code",
   "execution_count": 53,
   "metadata": {},
   "outputs": [],
   "source": [
    "#except 'distance from Residence to Work', rest three has outliers"
   ]
  },
  {
   "cell_type": "code",
   "execution_count": null,
   "metadata": {},
   "outputs": [],
   "source": []
  },
  {
   "cell_type": "code",
   "execution_count": 54,
   "metadata": {},
   "outputs": [
    {
     "data": {
      "text/plain": [
       "<matplotlib.axes._subplots.AxesSubplot at 0x24f16c67898>"
      ]
     },
     "execution_count": 54,
     "metadata": {},
     "output_type": "execute_result"
    },
    {
     "data": {
      "image/png": "[encoded data removed]",
      "text/plain": [
       "<Figure size 432x288 with 4 Axes>"
      ]
     },
     "metadata": {},
     "output_type": "display_data"
    }
   ],
   "source": [
    "plt.figure(1)\n",
    "plt.subplot(221)\n",
    "sns.boxplot(data['WorkloadAverage/day'])\n",
    "\n",
    "plt.subplot(222)\n",
    "sns.boxplot(data['Hittarget'])\n",
    "\n",
    "plt.subplot(223)\n",
    "sns.boxplot(data['Weight'])\n",
    "\n",
    "plt.subplot(224)\n",
    "sns.boxplot(data['Height'])"
   ]
  },
  {
   "cell_type": "code",
   "execution_count": 55,
   "metadata": {},
   "outputs": [],
   "source": [
    "# except weight all other has outliers"
   ]
  },
  {
   "cell_type": "code",
   "execution_count": 55,
   "metadata": {},
   "outputs": [
    {
     "data": {
      "text/plain": [
       "<matplotlib.axes._subplots.AxesSubplot at 0x24f16cf5cf8>"
      ]
     },
     "execution_count": 55,
     "metadata": {},
     "output_type": "execute_result"
    },
    {
     "data": {
      "image/png": "[encoded data removed]",
      "text/plain": [
       "<Figure size 432x288 with 1 Axes>"
      ]
     },
     "metadata": {},
     "output_type": "display_data"
    }
   ],
   "source": [
    "\n",
    "plt.subplot(221)\n",
    "sns.boxplot(data['Bodymassindex'])\n",
    "\n"
   ]
  },
  {
   "cell_type": "code",
   "execution_count": 56,
   "metadata": {},
   "outputs": [],
   "source": [
    "#let us get all the variables having outliers in a single list\n",
    "\n",
    "coutlier= [\"Transportationexpense\",\"Servicetime\",\"Age\",\"WorkloadAverage/day\",\"Hittarget\",\"Height\"]"
   ]
  },
  {
   "cell_type": "code",
   "execution_count": 57,
   "metadata": {},
   "outputs": [
    {
     "data": {
      "text/plain": [
       "['Transportationexpense',\n",
       " 'Servicetime',\n",
       " 'Age',\n",
       " 'WorkloadAverage/day',\n",
       " 'Hittarget',\n",
       " 'Height']"
      ]
     },
     "execution_count": 57,
     "metadata": {},
     "output_type": "execute_result"
    }
   ],
   "source": [
    "coutlier"
   ]
  },
  {
   "cell_type": "code",
   "execution_count": 58,
   "metadata": {},
   "outputs": [
    {
     "name": "stdout",
     "output_type": "stream",
     "text": [
      "Transportationexpense - 3 \n",
      "Servicetime - 5 \n",
      "Age - 8 \n",
      "WorkloadAverage/day - 31 \n",
      "Hittarget - 19 \n",
      "Height - 119 \n"
     ]
    }
   ],
   "source": [
    "for i in coutlier:\n",
    "    #print(i)\n",
    "    q75, q25 = np.percentile(data.loc[:,i], [75 ,25])\n",
    "    iqr = q75 - q25\n",
    "    minn = q25 - (iqr*1.5)\n",
    "    maxx = q75 + (iqr*1.5)\n",
    "#Converting to nan\n",
    "    data.loc[data.loc[:,i] < minn,i] = np.nan\n",
    "    data.loc[data.loc[:,i] > maxx,i] = np.nan\n",
    "    print('{var} - {X} '.format(var = i, X = (data.loc[:,i].isnull().sum())))"
   ]
  },
  {
   "cell_type": "code",
   "execution_count": 59,
   "metadata": {},
   "outputs": [
    {
     "name": "stdout",
     "output_type": "stream",
     "text": [
      "Imputing row 1/740 with 0 missing, elapsed time: 0.147\n",
      "Imputing row 101/740 with 1 missing, elapsed time: 0.162\n",
      "Imputing row 201/740 with 0 missing, elapsed time: 0.163\n",
      "Imputing row 301/740 with 0 missing, elapsed time: 0.163\n",
      "Imputing row 401/740 with 0 missing, elapsed time: 0.163\n",
      "Imputing row 501/740 with 0 missing, elapsed time: 0.163\n",
      "Imputing row 601/740 with 0 missing, elapsed time: 0.163\n",
      "Imputing row 701/740 with 0 missing, elapsed time: 0.163\n"
     ]
    }
   ],
   "source": [
    "#using knn for removing this outliers\n",
    "data= pd.DataFrame(KNN(k = 3).complete(data), columns = data.columns)\n"
   ]
  },
  {
   "cell_type": "code",
   "execution_count": 60,
   "metadata": {},
   "outputs": [
    {
     "data": {
      "text/plain": [
       "ID                             0\n",
       "Reasonforabsence               0\n",
       "Monthofabsence                 0\n",
       "Dayoftheweek                   0\n",
       "Seasons                        0\n",
       "Transportationexpense          0\n",
       "DistancefromResidencetoWork    0\n",
       "Servicetime                    0\n",
       "Age                            0\n",
       "WorkloadAverage/day            0\n",
       "Hittarget                      0\n",
       "Disciplinaryfailure            0\n",
       "Education                      0\n",
       "Son                            0\n",
       "Socialdrinker                  0\n",
       "Socialsmoker                   0\n",
       "Pet                            0\n",
       "Weight                         0\n",
       "Height                         0\n",
       "Bodymassindex                  0\n",
       "Absenteeismtimeinhours         0\n",
       "dtype: int64"
      ]
     },
     "execution_count": 60,
     "metadata": {},
     "output_type": "execute_result"
    }
   ],
   "source": [
    "data.isnull().sum()"
   ]
  },
  {
   "cell_type": "code",
   "execution_count": 62,
   "metadata": {},
   "outputs": [
    {
     "name": "stdout",
     "output_type": "stream",
     "text": [
      "<class 'pandas.core.frame.DataFrame'>\n",
      "RangeIndex: 740 entries, 0 to 739\n",
      "Data columns (total 21 columns):\n",
      "ID                             740 non-null float64\n",
      "Reasonforabsence               740 non-null float64\n",
      "Monthofabsence                 740 non-null float64\n",
      "Dayoftheweek                   740 non-null float64\n",
      "Seasons                        740 non-null float64\n",
      "Transportationexpense          740 non-null float64\n",
      "DistancefromResidencetoWork    740 non-null float64\n",
      "Servicetime                    740 non-null float64\n",
      "Age                            740 non-null float64\n",
      "WorkloadAverage/day            740 non-null float64\n",
      "Hittarget                      740 non-null float64\n",
      "Disciplinaryfailure            740 non-null float64\n",
      "Education                      740 non-null float64\n",
      "Son                            740 non-null float64\n",
      "Socialdrinker                  740 non-null float64\n",
      "Socialsmoker                   740 non-null float64\n",
      "Pet                            740 non-null float64\n",
      "Weight                         740 non-null float64\n",
      "Height                         740 non-null float64\n",
      "Bodymassindex                  740 non-null float64\n",
      "Absenteeismtimeinhours         740 non-null float64\n",
      "dtypes: float64(21)\n",
      "memory usage: 121.5 KB\n"
     ]
    }
   ],
   "source": [
    "data.info()"
   ]
  },
  {
   "cell_type": "code",
   "execution_count": 61,
   "metadata": {},
   "outputs": [],
   "source": [
    "#converting appropriate categorical variable into actual categorical variable \n",
    "\n",
    "data['ID']=data['ID'].astype('category')\n",
    "data['Reasonforabsence']=data['Reasonforabsence'].astype('category')\n",
    "data['Monthofabsence']=data['Monthofabsence'].astype('category')\n",
    "data['Dayoftheweek']=data['Dayoftheweek'].astype('category')\n",
    "data['Seasons']=data['Seasons'].astype('category')\n",
    "data['Disciplinaryfailure']=data['Disciplinaryfailure'].astype('category')\n",
    "data['Education']=data['Education'].astype('category')\n",
    "data['Son']=data['Son'].astype('category')\n",
    "data['Socialdrinker']=data['Socialdrinker'].astype('category')\n",
    "data['Socialsmoker']=data['Socialsmoker'].astype('category')\n",
    "data['Pet']=data['Pet'].astype('category')\n"
   ]
  },
  {
   "cell_type": "markdown",
   "metadata": {},
   "source": [
    "# feature selection"
   ]
  },
  {
   "cell_type": "code",
   "execution_count": 64,
   "metadata": {},
   "outputs": [],
   "source": [
    "#let us first distinguish numeric and categorical variables"
   ]
  },
  {
   "cell_type": "code",
   "execution_count": 101,
   "metadata": {},
   "outputs": [
    {
     "name": "stdout",
     "output_type": "stream",
     "text": [
      "['Transportationexpense', 'DistancefromResidencetoWork', 'Servicetime', 'Age', 'WorkloadAverage/day', 'Hittarget', 'Height', 'Bodymassindex', 'Absenteeismtimeinhours']\n"
     ]
    }
   ],
   "source": [
    "cname = data.columns[(data.dtypes==\"float64\")|(data.dtypes==\"int64\")].tolist()\n",
    "print(cname)"
   ]
  },
  {
   "cell_type": "code",
   "execution_count": 66,
   "metadata": {},
   "outputs": [],
   "source": [
    "#cname.remove(\"Absenteeism time in hours\")"
   ]
  },
  {
   "cell_type": "code",
   "execution_count": 102,
   "metadata": {},
   "outputs": [
    {
     "data": {
      "text/plain": [
       "['Transportationexpense',\n",
       " 'DistancefromResidencetoWork',\n",
       " 'Servicetime',\n",
       " 'Age',\n",
       " 'WorkloadAverage/day',\n",
       " 'Hittarget',\n",
       " 'Height',\n",
       " 'Bodymassindex',\n",
       " 'Absenteeismtimeinhours']"
      ]
     },
     "execution_count": 102,
     "metadata": {},
     "output_type": "execute_result"
    }
   ],
   "source": [
    "cname"
   ]
  },
  {
   "cell_type": "code",
   "execution_count": 64,
   "metadata": {},
   "outputs": [
    {
     "name": "stdout",
     "output_type": "stream",
     "text": [
      "['ID', 'Reasonforabsence', 'Monthofabsence', 'Dayoftheweek', 'Seasons', 'Disciplinaryfailure', 'Education', 'Son', 'Socialdrinker', 'Socialsmoker', 'Pet']\n"
     ]
    }
   ],
   "source": [
    "cat_name=data.columns[(data.dtypes==\"category\")].tolist()\n",
    "print(cat_name)"
   ]
  },
  {
   "cell_type": "code",
   "execution_count": 65,
   "metadata": {},
   "outputs": [],
   "source": [
    "cat_name.remove(\"ID\")"
   ]
  },
  {
   "cell_type": "code",
   "execution_count": 66,
   "metadata": {},
   "outputs": [
    {
     "data": {
      "text/plain": [
       "['Transportationexpense',\n",
       " 'DistancefromResidencetoWork',\n",
       " 'Servicetime',\n",
       " 'Age',\n",
       " 'WorkloadAverage/day',\n",
       " 'Hittarget',\n",
       " 'Weight',\n",
       " 'Height',\n",
       " 'Bodymassindex',\n",
       " 'Absenteeismtimeinhours']"
      ]
     },
     "execution_count": 66,
     "metadata": {},
     "output_type": "execute_result"
    }
   ],
   "source": [
    "cname"
   ]
  },
  {
   "cell_type": "code",
   "execution_count": 67,
   "metadata": {},
   "outputs": [
    {
     "data": {
      "text/plain": [
       "['Reasonforabsence',\n",
       " 'Monthofabsence',\n",
       " 'Dayoftheweek',\n",
       " 'Seasons',\n",
       " 'Disciplinaryfailure',\n",
       " 'Education',\n",
       " 'Son',\n",
       " 'Socialdrinker',\n",
       " 'Socialsmoker',\n",
       " 'Pet']"
      ]
     },
     "execution_count": 67,
     "metadata": {},
     "output_type": "execute_result"
    }
   ],
   "source": [
    "cat_name"
   ]
  },
  {
   "cell_type": "code",
   "execution_count": 68,
   "metadata": {},
   "outputs": [],
   "source": [
    "#let us see the correlation\n",
    "\n",
    "data_corr=data.loc[:,cname]"
   ]
  },
  {
   "cell_type": "code",
   "execution_count": 69,
   "metadata": {},
   "outputs": [
    {
     "data": {
      "text/plain": [
       "<matplotlib.axes._subplots.AxesSubplot at 0x24f17e49668>"
      ]
     },
     "execution_count": 69,
     "metadata": {},
     "output_type": "execute_result"
    },
    {
     "data": {
      "image/png": "[encoded data removed]",
      "text/plain": [
       "<Figure size 1440x864 with 2 Axes>"
      ]
     },
     "metadata": {},
     "output_type": "display_data"
    }
   ],
   "source": [
    "# Correlation matrix\n",
    "\n",
    "#generating correlation matrix\n",
    "corr=data_corr.corr()\n",
    "\n",
    "#Setting up the pane or matrix size\n",
    "f, ax = plt.subplots(figsize=(20,12)) \n",
    "\n",
    "#Plot using Seaborn library\n",
    "sns.heatmap(corr,mask=np.zeros_like(corr, dtype=np.bool), cmap=sns.diverging_palette(220,10, as_cmap=True),\\\n",
    "            square=True, ax=ax,annot=True,linewidths=1 , linecolor= 'black',vmin = -1, vmax = 1)"
   ]
  },
  {
   "cell_type": "code",
   "execution_count": 74,
   "metadata": {},
   "outputs": [],
   "source": [
    "#we see that weight is highly correlated tobody mass index so lets remove weight"
   ]
  },
  {
   "cell_type": "code",
   "execution_count": 70,
   "metadata": {},
   "outputs": [],
   "source": [
    "data=data.drop(['Weight','ID'],axis=1)"
   ]
  },
  {
   "cell_type": "code",
   "execution_count": null,
   "metadata": {},
   "outputs": [],
   "source": []
  },
  {
   "cell_type": "code",
   "execution_count": 76,
   "metadata": {},
   "outputs": [
    {
     "data": {
      "text/html": [
       "<div>\n",
       "<style scoped>\n",
       "    .dataframe tbody tr th:only-of-type {\n",
       "        vertical-align: middle;\n",
       "    }\n",
       "\n",
       "    .dataframe tbody tr th {\n",
       "        vertical-align: top;\n",
       "    }\n",
       "\n",
       "    .dataframe thead th {\n",
       "        text-align: right;\n",
       "    }\n",
       "</style>\n",
       "<table border=\"1\" class=\"dataframe\">\n",
       "  <thead>\n",
       "    <tr style=\"text-align: right;\">\n",
       "      <th></th>\n",
       "      <th>Reasonforabsence</th>\n",
       "      <th>Monthofabsence</th>\n",
       "      <th>Dayoftheweek</th>\n",
       "      <th>Seasons</th>\n",
       "      <th>Transportationexpense</th>\n",
       "      <th>DistancefromResidencetoWork</th>\n",
       "      <th>Servicetime</th>\n",
       "      <th>Age</th>\n",
       "      <th>WorkloadAverage/day</th>\n",
       "      <th>Hittarget</th>\n",
       "      <th>Disciplinaryfailure</th>\n",
       "      <th>Education</th>\n",
       "      <th>Son</th>\n",
       "      <th>Socialdrinker</th>\n",
       "      <th>Socialsmoker</th>\n",
       "      <th>Pet</th>\n",
       "      <th>Height</th>\n",
       "      <th>Bodymassindex</th>\n",
       "      <th>Absenteeismtimeinhours</th>\n",
       "    </tr>\n",
       "  </thead>\n",
       "  <tbody>\n",
       "    <tr>\n",
       "      <th>0</th>\n",
       "      <td>26.0</td>\n",
       "      <td>7.0</td>\n",
       "      <td>3.0</td>\n",
       "      <td>1.0</td>\n",
       "      <td>289.0</td>\n",
       "      <td>36.0</td>\n",
       "      <td>13.0</td>\n",
       "      <td>33.0</td>\n",
       "      <td>239554.0</td>\n",
       "      <td>97.0</td>\n",
       "      <td>0.0</td>\n",
       "      <td>1.0</td>\n",
       "      <td>2.0</td>\n",
       "      <td>1.0</td>\n",
       "      <td>0.0</td>\n",
       "      <td>1.0</td>\n",
       "      <td>172.000000</td>\n",
       "      <td>30.0</td>\n",
       "      <td>4.0</td>\n",
       "    </tr>\n",
       "    <tr>\n",
       "      <th>1</th>\n",
       "      <td>0.0</td>\n",
       "      <td>7.0</td>\n",
       "      <td>3.0</td>\n",
       "      <td>1.0</td>\n",
       "      <td>118.0</td>\n",
       "      <td>13.0</td>\n",
       "      <td>18.0</td>\n",
       "      <td>50.0</td>\n",
       "      <td>239554.0</td>\n",
       "      <td>97.0</td>\n",
       "      <td>1.0</td>\n",
       "      <td>1.0</td>\n",
       "      <td>1.0</td>\n",
       "      <td>1.0</td>\n",
       "      <td>0.0</td>\n",
       "      <td>0.0</td>\n",
       "      <td>170.000009</td>\n",
       "      <td>31.0</td>\n",
       "      <td>0.0</td>\n",
       "    </tr>\n",
       "    <tr>\n",
       "      <th>2</th>\n",
       "      <td>23.0</td>\n",
       "      <td>7.0</td>\n",
       "      <td>4.0</td>\n",
       "      <td>1.0</td>\n",
       "      <td>179.0</td>\n",
       "      <td>51.0</td>\n",
       "      <td>18.0</td>\n",
       "      <td>38.0</td>\n",
       "      <td>239554.0</td>\n",
       "      <td>97.0</td>\n",
       "      <td>0.0</td>\n",
       "      <td>1.0</td>\n",
       "      <td>0.0</td>\n",
       "      <td>1.0</td>\n",
       "      <td>0.0</td>\n",
       "      <td>0.0</td>\n",
       "      <td>170.000000</td>\n",
       "      <td>31.0</td>\n",
       "      <td>2.0</td>\n",
       "    </tr>\n",
       "  </tbody>\n",
       "</table>\n",
       "</div>"
      ],
      "text/plain": [
       "  Reasonforabsence Monthofabsence Dayoftheweek Seasons  Transportationexpense  \\\n",
       "0             26.0            7.0          3.0     1.0                  289.0   \n",
       "1              0.0            7.0          3.0     1.0                  118.0   \n",
       "2             23.0            7.0          4.0     1.0                  179.0   \n",
       "\n",
       "   DistancefromResidencetoWork  Servicetime   Age  WorkloadAverage/day  \\\n",
       "0                         36.0         13.0  33.0             239554.0   \n",
       "1                         13.0         18.0  50.0             239554.0   \n",
       "2                         51.0         18.0  38.0             239554.0   \n",
       "\n",
       "   Hittarget Disciplinaryfailure Education  Son Socialdrinker Socialsmoker  \\\n",
       "0       97.0                 0.0       1.0  2.0           1.0          0.0   \n",
       "1       97.0                 1.0       1.0  1.0           1.0          0.0   \n",
       "2       97.0                 0.0       1.0  0.0           1.0          0.0   \n",
       "\n",
       "   Pet      Height  Bodymassindex  Absenteeismtimeinhours  \n",
       "0  1.0  172.000000           30.0                     4.0  \n",
       "1  0.0  170.000009           31.0                     0.0  \n",
       "2  0.0  170.000000           31.0                     2.0  "
      ]
     },
     "execution_count": 76,
     "metadata": {},
     "output_type": "execute_result"
    }
   ],
   "source": [
    "data.head(3)"
   ]
  },
  {
   "cell_type": "code",
   "execution_count": null,
   "metadata": {},
   "outputs": [],
   "source": []
  },
  {
   "cell_type": "code",
   "execution_count": null,
   "metadata": {},
   "outputs": [],
   "source": [
    "\n"
   ]
  },
  {
   "cell_type": "code",
   "execution_count": 77,
   "metadata": {},
   "outputs": [],
   "source": [
    "# now let us see anova test for categorical varibles"
   ]
  },
  {
   "cell_type": "code",
   "execution_count": 71,
   "metadata": {},
   "outputs": [],
   "source": [
    "from statsmodels.formula.api import ols\n",
    "from statsmodels.stats.anova import anova_lm\n",
    "from scipy import stats"
   ]
  },
  {
   "cell_type": "code",
   "execution_count": 72,
   "metadata": {},
   "outputs": [],
   "source": [
    "formula = 'Absenteeismtimeinhours ~ C(Seasons)+C(Monthofabsence)+C(Pet)+C(Son)+C(Socialdrinker)+C(Reasonforabsence)+C(Dayoftheweek)+C(Disciplinaryfailure)+C(Education)+C(Socialsmoker)  '\n"
   ]
  },
  {
   "cell_type": "code",
   "execution_count": 73,
   "metadata": {},
   "outputs": [],
   "source": [
    "model = ols(formula, data=data).fit()\n"
   ]
  },
  {
   "cell_type": "code",
   "execution_count": 74,
   "metadata": {},
   "outputs": [],
   "source": [
    "aov_table = anova_lm(model, typ=2)"
   ]
  },
  {
   "cell_type": "code",
   "execution_count": 75,
   "metadata": {},
   "outputs": [
    {
     "data": {
      "text/html": [
       "<div>\n",
       "<style scoped>\n",
       "    .dataframe tbody tr th:only-of-type {\n",
       "        vertical-align: middle;\n",
       "    }\n",
       "\n",
       "    .dataframe tbody tr th {\n",
       "        vertical-align: top;\n",
       "    }\n",
       "\n",
       "    .dataframe thead th {\n",
       "        text-align: right;\n",
       "    }\n",
       "</style>\n",
       "<table border=\"1\" class=\"dataframe\">\n",
       "  <thead>\n",
       "    <tr style=\"text-align: right;\">\n",
       "      <th></th>\n",
       "      <th>sum_sq</th>\n",
       "      <th>df</th>\n",
       "      <th>F</th>\n",
       "      <th>PR(&gt;F)</th>\n",
       "    </tr>\n",
       "  </thead>\n",
       "  <tbody>\n",
       "    <tr>\n",
       "      <th>C(Seasons)</th>\n",
       "      <td>127.149286</td>\n",
       "      <td>3.0</td>\n",
       "      <td>0.286570</td>\n",
       "      <td>8.351163e-01</td>\n",
       "    </tr>\n",
       "    <tr>\n",
       "      <th>C(Monthofabsence)</th>\n",
       "      <td>1523.725596</td>\n",
       "      <td>13.0</td>\n",
       "      <td>0.792505</td>\n",
       "      <td>6.685861e-01</td>\n",
       "    </tr>\n",
       "    <tr>\n",
       "      <th>C(Pet)</th>\n",
       "      <td>963.424967</td>\n",
       "      <td>6.0</td>\n",
       "      <td>1.085688</td>\n",
       "      <td>3.693750e-01</td>\n",
       "    </tr>\n",
       "    <tr>\n",
       "      <th>C(Son)</th>\n",
       "      <td>1393.312901</td>\n",
       "      <td>7.0</td>\n",
       "      <td>1.345826</td>\n",
       "      <td>2.258732e-01</td>\n",
       "    </tr>\n",
       "    <tr>\n",
       "      <th>C(Socialdrinker)</th>\n",
       "      <td>428.345056</td>\n",
       "      <td>3.0</td>\n",
       "      <td>0.965408</td>\n",
       "      <td>4.085621e-01</td>\n",
       "    </tr>\n",
       "    <tr>\n",
       "      <th>C(Reasonforabsence)</th>\n",
       "      <td>22209.491646</td>\n",
       "      <td>30.0</td>\n",
       "      <td>5.005596</td>\n",
       "      <td>8.007219e-16</td>\n",
       "    </tr>\n",
       "    <tr>\n",
       "      <th>C(Dayoftheweek)</th>\n",
       "      <td>1059.151555</td>\n",
       "      <td>4.0</td>\n",
       "      <td>1.790344</td>\n",
       "      <td>1.289871e-01</td>\n",
       "    </tr>\n",
       "    <tr>\n",
       "      <th>C(Disciplinaryfailure)</th>\n",
       "      <td>36.109285</td>\n",
       "      <td>2.0</td>\n",
       "      <td>0.122075</td>\n",
       "      <td>8.851017e-01</td>\n",
       "    </tr>\n",
       "    <tr>\n",
       "      <th>C(Education)</th>\n",
       "      <td>950.332937</td>\n",
       "      <td>8.0</td>\n",
       "      <td>0.803201</td>\n",
       "      <td>5.998996e-01</td>\n",
       "    </tr>\n",
       "    <tr>\n",
       "      <th>C(Socialsmoker)</th>\n",
       "      <td>210.338617</td>\n",
       "      <td>1.0</td>\n",
       "      <td>1.422189</td>\n",
       "      <td>2.334694e-01</td>\n",
       "    </tr>\n",
       "    <tr>\n",
       "      <th>Residual</th>\n",
       "      <td>98204.113802</td>\n",
       "      <td>664.0</td>\n",
       "      <td>NaN</td>\n",
       "      <td>NaN</td>\n",
       "    </tr>\n",
       "  </tbody>\n",
       "</table>\n",
       "</div>"
      ],
      "text/plain": [
       "                              sum_sq     df         F        PR(>F)\n",
       "C(Seasons)                127.149286    3.0  0.286570  8.351163e-01\n",
       "C(Monthofabsence)        1523.725596   13.0  0.792505  6.685861e-01\n",
       "C(Pet)                    963.424967    6.0  1.085688  3.693750e-01\n",
       "C(Son)                   1393.312901    7.0  1.345826  2.258732e-01\n",
       "C(Socialdrinker)          428.345056    3.0  0.965408  4.085621e-01\n",
       "C(Reasonforabsence)     22209.491646   30.0  5.005596  8.007219e-16\n",
       "C(Dayoftheweek)          1059.151555    4.0  1.790344  1.289871e-01\n",
       "C(Disciplinaryfailure)     36.109285    2.0  0.122075  8.851017e-01\n",
       "C(Education)              950.332937    8.0  0.803201  5.998996e-01\n",
       "C(Socialsmoker)           210.338617    1.0  1.422189  2.334694e-01\n",
       "Residual                98204.113802  664.0       NaN           NaN"
      ]
     },
     "execution_count": 75,
     "metadata": {},
     "output_type": "execute_result"
    }
   ],
   "source": [
    "aov_table"
   ]
  },
  {
   "cell_type": "code",
   "execution_count": 83,
   "metadata": {},
   "outputs": [],
   "source": [
    "#we see that reason of absesnse has valuess less than 0.05, rest all are above 0.05 so we drop all varibles except reason of absense"
   ]
  },
  {
   "cell_type": "code",
   "execution_count": 76,
   "metadata": {},
   "outputs": [],
   "source": [
    "data=data.drop(['Seasons','Monthofabsence','Pet','Son','Socialdrinker','Dayoftheweek','Disciplinaryfailure','Education','Socialsmoker'],axis=1)"
   ]
  },
  {
   "cell_type": "code",
   "execution_count": 98,
   "metadata": {},
   "outputs": [
    {
     "data": {
      "text/html": [
       "<div>\n",
       "<style scoped>\n",
       "    .dataframe tbody tr th:only-of-type {\n",
       "        vertical-align: middle;\n",
       "    }\n",
       "\n",
       "    .dataframe tbody tr th {\n",
       "        vertical-align: top;\n",
       "    }\n",
       "\n",
       "    .dataframe thead th {\n",
       "        text-align: right;\n",
       "    }\n",
       "</style>\n",
       "<table border=\"1\" class=\"dataframe\">\n",
       "  <thead>\n",
       "    <tr style=\"text-align: right;\">\n",
       "      <th></th>\n",
       "      <th>Reasonforabsence</th>\n",
       "      <th>Transportationexpense</th>\n",
       "      <th>DistancefromResidencetoWork</th>\n",
       "      <th>Servicetime</th>\n",
       "      <th>Age</th>\n",
       "      <th>WorkloadAverage/day</th>\n",
       "      <th>Hittarget</th>\n",
       "      <th>Height</th>\n",
       "      <th>Bodymassindex</th>\n",
       "      <th>Absenteeismtimeinhours</th>\n",
       "    </tr>\n",
       "  </thead>\n",
       "  <tbody>\n",
       "    <tr>\n",
       "      <th>0</th>\n",
       "      <td>26.0</td>\n",
       "      <td>0.657692</td>\n",
       "      <td>0.659574</td>\n",
       "      <td>0.521739</td>\n",
       "      <td>0.230769</td>\n",
       "      <td>0.244925</td>\n",
       "      <td>0.769231</td>\n",
       "      <td>172.000000</td>\n",
       "      <td>30.0</td>\n",
       "      <td>4.000000</td>\n",
       "    </tr>\n",
       "    <tr>\n",
       "      <th>1</th>\n",
       "      <td>0.0</td>\n",
       "      <td>0.000000</td>\n",
       "      <td>0.170213</td>\n",
       "      <td>0.739130</td>\n",
       "      <td>0.884615</td>\n",
       "      <td>0.244925</td>\n",
       "      <td>0.769231</td>\n",
       "      <td>170.000009</td>\n",
       "      <td>31.0</td>\n",
       "      <td>0.000000</td>\n",
       "    </tr>\n",
       "    <tr>\n",
       "      <th>2</th>\n",
       "      <td>23.0</td>\n",
       "      <td>0.234615</td>\n",
       "      <td>0.978723</td>\n",
       "      <td>0.739130</td>\n",
       "      <td>0.423077</td>\n",
       "      <td>0.244925</td>\n",
       "      <td>0.769231</td>\n",
       "      <td>170.000000</td>\n",
       "      <td>31.0</td>\n",
       "      <td>2.000000</td>\n",
       "    </tr>\n",
       "    <tr>\n",
       "      <th>3</th>\n",
       "      <td>7.0</td>\n",
       "      <td>0.619231</td>\n",
       "      <td>0.000000</td>\n",
       "      <td>0.565217</td>\n",
       "      <td>0.461538</td>\n",
       "      <td>0.244925</td>\n",
       "      <td>0.769231</td>\n",
       "      <td>168.000000</td>\n",
       "      <td>24.0</td>\n",
       "      <td>4.000000</td>\n",
       "    </tr>\n",
       "    <tr>\n",
       "      <th>4</th>\n",
       "      <td>23.0</td>\n",
       "      <td>0.657692</td>\n",
       "      <td>0.659574</td>\n",
       "      <td>0.521739</td>\n",
       "      <td>0.230769</td>\n",
       "      <td>0.244925</td>\n",
       "      <td>0.769231</td>\n",
       "      <td>172.000000</td>\n",
       "      <td>30.0</td>\n",
       "      <td>2.000000</td>\n",
       "    </tr>\n",
       "    <tr>\n",
       "      <th>5</th>\n",
       "      <td>23.0</td>\n",
       "      <td>0.234615</td>\n",
       "      <td>0.978723</td>\n",
       "      <td>0.739130</td>\n",
       "      <td>0.423077</td>\n",
       "      <td>0.244925</td>\n",
       "      <td>0.769231</td>\n",
       "      <td>170.000000</td>\n",
       "      <td>31.0</td>\n",
       "      <td>2.000009</td>\n",
       "    </tr>\n",
       "    <tr>\n",
       "      <th>6</th>\n",
       "      <td>22.0</td>\n",
       "      <td>0.909307</td>\n",
       "      <td>1.000000</td>\n",
       "      <td>0.086957</td>\n",
       "      <td>0.038462</td>\n",
       "      <td>0.244925</td>\n",
       "      <td>0.769231</td>\n",
       "      <td>172.000000</td>\n",
       "      <td>27.0</td>\n",
       "      <td>8.000000</td>\n",
       "    </tr>\n",
       "    <tr>\n",
       "      <th>7</th>\n",
       "      <td>23.0</td>\n",
       "      <td>0.546154</td>\n",
       "      <td>0.957447</td>\n",
       "      <td>0.434783</td>\n",
       "      <td>0.346154</td>\n",
       "      <td>0.244925</td>\n",
       "      <td>0.769231</td>\n",
       "      <td>168.000000</td>\n",
       "      <td>23.0</td>\n",
       "      <td>4.000000</td>\n",
       "    </tr>\n",
       "    <tr>\n",
       "      <th>8</th>\n",
       "      <td>19.0</td>\n",
       "      <td>0.142308</td>\n",
       "      <td>0.148936</td>\n",
       "      <td>0.565217</td>\n",
       "      <td>0.269231</td>\n",
       "      <td>0.244925</td>\n",
       "      <td>0.769231</td>\n",
       "      <td>168.966823</td>\n",
       "      <td>25.0</td>\n",
       "      <td>40.000000</td>\n",
       "    </tr>\n",
       "    <tr>\n",
       "      <th>9</th>\n",
       "      <td>22.0</td>\n",
       "      <td>0.450000</td>\n",
       "      <td>0.127660</td>\n",
       "      <td>0.565217</td>\n",
       "      <td>0.384615</td>\n",
       "      <td>0.244925</td>\n",
       "      <td>0.769231</td>\n",
       "      <td>172.000000</td>\n",
       "      <td>29.0</td>\n",
       "      <td>8.000000</td>\n",
       "    </tr>\n",
       "  </tbody>\n",
       "</table>\n",
       "</div>"
      ],
      "text/plain": [
       "  Reasonforabsence  Transportationexpense  DistancefromResidencetoWork  \\\n",
       "0             26.0               0.657692                     0.659574   \n",
       "1              0.0               0.000000                     0.170213   \n",
       "2             23.0               0.234615                     0.978723   \n",
       "3              7.0               0.619231                     0.000000   \n",
       "4             23.0               0.657692                     0.659574   \n",
       "5             23.0               0.234615                     0.978723   \n",
       "6             22.0               0.909307                     1.000000   \n",
       "7             23.0               0.546154                     0.957447   \n",
       "8             19.0               0.142308                     0.148936   \n",
       "9             22.0               0.450000                     0.127660   \n",
       "\n",
       "   Servicetime       Age  WorkloadAverage/day  Hittarget      Height  \\\n",
       "0     0.521739  0.230769             0.244925   0.769231  172.000000   \n",
       "1     0.739130  0.884615             0.244925   0.769231  170.000009   \n",
       "2     0.739130  0.423077             0.244925   0.769231  170.000000   \n",
       "3     0.565217  0.461538             0.244925   0.769231  168.000000   \n",
       "4     0.521739  0.230769             0.244925   0.769231  172.000000   \n",
       "5     0.739130  0.423077             0.244925   0.769231  170.000000   \n",
       "6     0.086957  0.038462             0.244925   0.769231  172.000000   \n",
       "7     0.434783  0.346154             0.244925   0.769231  168.000000   \n",
       "8     0.565217  0.269231             0.244925   0.769231  168.966823   \n",
       "9     0.565217  0.384615             0.244925   0.769231  172.000000   \n",
       "\n",
       "   Bodymassindex  Absenteeismtimeinhours  \n",
       "0           30.0                4.000000  \n",
       "1           31.0                0.000000  \n",
       "2           31.0                2.000000  \n",
       "3           24.0                4.000000  \n",
       "4           30.0                2.000000  \n",
       "5           31.0                2.000009  \n",
       "6           27.0                8.000000  \n",
       "7           23.0                4.000000  \n",
       "8           25.0               40.000000  \n",
       "9           29.0                8.000000  "
      ]
     },
     "execution_count": 98,
     "metadata": {},
     "output_type": "execute_result"
    }
   ],
   "source": [
    "data.head(10)"
   ]
  },
  {
   "cell_type": "code",
   "execution_count": 100,
   "metadata": {},
   "outputs": [
    {
     "ename": "AttributeError",
     "evalue": "'list' object has no attribute 'drop'",
     "output_type": "error",
     "traceback": [
      "\u001b[1;31m---------------------------------------------------------------------------\u001b[0m",
      "\u001b[1;31mAttributeError\u001b[0m                            Traceback (most recent call last)",
      "\u001b[1;32m<ipython-input-100-fae602610c22>\u001b[0m in \u001b[0;36m<module>\u001b[1;34m()\u001b[0m\n\u001b[1;32m----> 1\u001b[1;33m \u001b[0mcname\u001b[0m\u001b[1;33m.\u001b[0m\u001b[0mdrop\u001b[0m\u001b[1;33m(\u001b[0m\u001b[1;33m[\u001b[0m\u001b[1;34m'Weight'\u001b[0m\u001b[1;33m]\u001b[0m\u001b[1;33m)\u001b[0m\u001b[1;33m\u001b[0m\u001b[0m\n\u001b[0m",
      "\u001b[1;31mAttributeError\u001b[0m: 'list' object has no attribute 'drop'"
     ]
    }
   ],
   "source": []
  },
  {
   "cell_type": "code",
   "execution_count": null,
   "metadata": {},
   "outputs": [],
   "source": []
  },
  {
   "cell_type": "markdown",
   "metadata": {},
   "source": [
    "# feature scaling"
   ]
  },
  {
   "cell_type": "code",
   "execution_count": 103,
   "metadata": {},
   "outputs": [
    {
     "name": "stdout",
     "output_type": "stream",
     "text": [
      "Transportationexpense\n",
      "DistancefromResidencetoWork\n",
      "Servicetime\n",
      "Age\n",
      "WorkloadAverage/day\n",
      "Hittarget\n",
      "Height\n",
      "Bodymassindex\n",
      "Absenteeismtimeinhours\n"
     ]
    }
   ],
   "source": [
    "\n",
    "#Nomalisation\n",
    "for i in cname:\n",
    "    print(i)\n",
    "    data[i] = (data[i] - min(data[i]))/(max(data[i]) - min(data[i]))"
   ]
  },
  {
   "cell_type": "code",
   "execution_count": 106,
   "metadata": {},
   "outputs": [
    {
     "data": {
      "text/html": [
       "<div>\n",
       "<style scoped>\n",
       "    .dataframe tbody tr th:only-of-type {\n",
       "        vertical-align: middle;\n",
       "    }\n",
       "\n",
       "    .dataframe tbody tr th {\n",
       "        vertical-align: top;\n",
       "    }\n",
       "\n",
       "    .dataframe thead th {\n",
       "        text-align: right;\n",
       "    }\n",
       "</style>\n",
       "<table border=\"1\" class=\"dataframe\">\n",
       "  <thead>\n",
       "    <tr style=\"text-align: right;\">\n",
       "      <th></th>\n",
       "      <th>Reasonforabsence</th>\n",
       "      <th>Transportationexpense</th>\n",
       "      <th>DistancefromResidencetoWork</th>\n",
       "      <th>Servicetime</th>\n",
       "      <th>Age</th>\n",
       "      <th>WorkloadAverage/day</th>\n",
       "      <th>Hittarget</th>\n",
       "      <th>Height</th>\n",
       "      <th>Bodymassindex</th>\n",
       "      <th>Absenteeismtimeinhours</th>\n",
       "    </tr>\n",
       "  </thead>\n",
       "  <tbody>\n",
       "    <tr>\n",
       "      <th>0</th>\n",
       "      <td>26.0</td>\n",
       "      <td>0.657692</td>\n",
       "      <td>0.659574</td>\n",
       "      <td>0.521739</td>\n",
       "      <td>0.230769</td>\n",
       "      <td>0.244925</td>\n",
       "      <td>0.769231</td>\n",
       "      <td>0.700000</td>\n",
       "      <td>0.578947</td>\n",
       "      <td>0.033333</td>\n",
       "    </tr>\n",
       "    <tr>\n",
       "      <th>1</th>\n",
       "      <td>0.0</td>\n",
       "      <td>0.000000</td>\n",
       "      <td>0.170213</td>\n",
       "      <td>0.739130</td>\n",
       "      <td>0.884615</td>\n",
       "      <td>0.244925</td>\n",
       "      <td>0.769231</td>\n",
       "      <td>0.500001</td>\n",
       "      <td>0.631579</td>\n",
       "      <td>0.000000</td>\n",
       "    </tr>\n",
       "    <tr>\n",
       "      <th>2</th>\n",
       "      <td>23.0</td>\n",
       "      <td>0.234615</td>\n",
       "      <td>0.978723</td>\n",
       "      <td>0.739130</td>\n",
       "      <td>0.423077</td>\n",
       "      <td>0.244925</td>\n",
       "      <td>0.769231</td>\n",
       "      <td>0.500000</td>\n",
       "      <td>0.631579</td>\n",
       "      <td>0.016667</td>\n",
       "    </tr>\n",
       "    <tr>\n",
       "      <th>3</th>\n",
       "      <td>7.0</td>\n",
       "      <td>0.619231</td>\n",
       "      <td>0.000000</td>\n",
       "      <td>0.565217</td>\n",
       "      <td>0.461538</td>\n",
       "      <td>0.244925</td>\n",
       "      <td>0.769231</td>\n",
       "      <td>0.300000</td>\n",
       "      <td>0.263158</td>\n",
       "      <td>0.033333</td>\n",
       "    </tr>\n",
       "    <tr>\n",
       "      <th>4</th>\n",
       "      <td>23.0</td>\n",
       "      <td>0.657692</td>\n",
       "      <td>0.659574</td>\n",
       "      <td>0.521739</td>\n",
       "      <td>0.230769</td>\n",
       "      <td>0.244925</td>\n",
       "      <td>0.769231</td>\n",
       "      <td>0.700000</td>\n",
       "      <td>0.578947</td>\n",
       "      <td>0.016667</td>\n",
       "    </tr>\n",
       "    <tr>\n",
       "      <th>5</th>\n",
       "      <td>23.0</td>\n",
       "      <td>0.234615</td>\n",
       "      <td>0.978723</td>\n",
       "      <td>0.739130</td>\n",
       "      <td>0.423077</td>\n",
       "      <td>0.244925</td>\n",
       "      <td>0.769231</td>\n",
       "      <td>0.500000</td>\n",
       "      <td>0.631579</td>\n",
       "      <td>0.016667</td>\n",
       "    </tr>\n",
       "    <tr>\n",
       "      <th>6</th>\n",
       "      <td>22.0</td>\n",
       "      <td>0.909307</td>\n",
       "      <td>1.000000</td>\n",
       "      <td>0.086957</td>\n",
       "      <td>0.038462</td>\n",
       "      <td>0.244925</td>\n",
       "      <td>0.769231</td>\n",
       "      <td>0.700000</td>\n",
       "      <td>0.421053</td>\n",
       "      <td>0.066667</td>\n",
       "    </tr>\n",
       "    <tr>\n",
       "      <th>7</th>\n",
       "      <td>23.0</td>\n",
       "      <td>0.546154</td>\n",
       "      <td>0.957447</td>\n",
       "      <td>0.434783</td>\n",
       "      <td>0.346154</td>\n",
       "      <td>0.244925</td>\n",
       "      <td>0.769231</td>\n",
       "      <td>0.300000</td>\n",
       "      <td>0.210526</td>\n",
       "      <td>0.033333</td>\n",
       "    </tr>\n",
       "    <tr>\n",
       "      <th>8</th>\n",
       "      <td>19.0</td>\n",
       "      <td>0.142308</td>\n",
       "      <td>0.148936</td>\n",
       "      <td>0.565217</td>\n",
       "      <td>0.269231</td>\n",
       "      <td>0.244925</td>\n",
       "      <td>0.769231</td>\n",
       "      <td>0.396682</td>\n",
       "      <td>0.315789</td>\n",
       "      <td>0.333333</td>\n",
       "    </tr>\n",
       "    <tr>\n",
       "      <th>9</th>\n",
       "      <td>22.0</td>\n",
       "      <td>0.450000</td>\n",
       "      <td>0.127660</td>\n",
       "      <td>0.565217</td>\n",
       "      <td>0.384615</td>\n",
       "      <td>0.244925</td>\n",
       "      <td>0.769231</td>\n",
       "      <td>0.700000</td>\n",
       "      <td>0.526316</td>\n",
       "      <td>0.066667</td>\n",
       "    </tr>\n",
       "  </tbody>\n",
       "</table>\n",
       "</div>"
      ],
      "text/plain": [
       "  Reasonforabsence  Transportationexpense  DistancefromResidencetoWork  \\\n",
       "0             26.0               0.657692                     0.659574   \n",
       "1              0.0               0.000000                     0.170213   \n",
       "2             23.0               0.234615                     0.978723   \n",
       "3              7.0               0.619231                     0.000000   \n",
       "4             23.0               0.657692                     0.659574   \n",
       "5             23.0               0.234615                     0.978723   \n",
       "6             22.0               0.909307                     1.000000   \n",
       "7             23.0               0.546154                     0.957447   \n",
       "8             19.0               0.142308                     0.148936   \n",
       "9             22.0               0.450000                     0.127660   \n",
       "\n",
       "   Servicetime       Age  WorkloadAverage/day  Hittarget    Height  \\\n",
       "0     0.521739  0.230769             0.244925   0.769231  0.700000   \n",
       "1     0.739130  0.884615             0.244925   0.769231  0.500001   \n",
       "2     0.739130  0.423077             0.244925   0.769231  0.500000   \n",
       "3     0.565217  0.461538             0.244925   0.769231  0.300000   \n",
       "4     0.521739  0.230769             0.244925   0.769231  0.700000   \n",
       "5     0.739130  0.423077             0.244925   0.769231  0.500000   \n",
       "6     0.086957  0.038462             0.244925   0.769231  0.700000   \n",
       "7     0.434783  0.346154             0.244925   0.769231  0.300000   \n",
       "8     0.565217  0.269231             0.244925   0.769231  0.396682   \n",
       "9     0.565217  0.384615             0.244925   0.769231  0.700000   \n",
       "\n",
       "   Bodymassindex  Absenteeismtimeinhours  \n",
       "0       0.578947                0.033333  \n",
       "1       0.631579                0.000000  \n",
       "2       0.631579                0.016667  \n",
       "3       0.263158                0.033333  \n",
       "4       0.578947                0.016667  \n",
       "5       0.631579                0.016667  \n",
       "6       0.421053                0.066667  \n",
       "7       0.210526                0.033333  \n",
       "8       0.315789                0.333333  \n",
       "9       0.526316                0.066667  "
      ]
     },
     "execution_count": 106,
     "metadata": {},
     "output_type": "execute_result"
    }
   ],
   "source": [
    "data.head(10)"
   ]
  },
  {
   "cell_type": "markdown",
   "metadata": {},
   "source": [
    "# MODEL BUILDING "
   ]
  },
  {
   "cell_type": "code",
   "execution_count": 107,
   "metadata": {},
   "outputs": [],
   "source": [
    "#Divide data into train and test\n",
    "\n",
    "\n",
    "train, test = train_test_split(data, test_size=0.2)\n"
   ]
  },
  {
   "cell_type": "code",
   "execution_count": 108,
   "metadata": {},
   "outputs": [
    {
     "data": {
      "text/plain": [
       "(592, 10)"
      ]
     },
     "execution_count": 108,
     "metadata": {},
     "output_type": "execute_result"
    }
   ],
   "source": [
    "train.shape"
   ]
  },
  {
   "cell_type": "code",
   "execution_count": 109,
   "metadata": {},
   "outputs": [
    {
     "data": {
      "text/plain": [
       "(148, 10)"
      ]
     },
     "execution_count": 109,
     "metadata": {},
     "output_type": "execute_result"
    }
   ],
   "source": [
    "test.shape"
   ]
  },
  {
   "cell_type": "code",
   "execution_count": 110,
   "metadata": {},
   "outputs": [
    {
     "data": {
      "text/plain": [
       "(740, 10)"
      ]
     },
     "execution_count": 110,
     "metadata": {},
     "output_type": "execute_result"
    }
   ],
   "source": [
    "data.shape"
   ]
  },
  {
   "cell_type": "markdown",
   "metadata": {},
   "source": [
    "#DECISION TREE"
   ]
  },
  {
   "cell_type": "code",
   "execution_count": 111,
   "metadata": {},
   "outputs": [],
   "source": [
    "#building decision tree\n",
    "\n",
    "regr_DT = DecisionTreeRegressor(max_depth=2).fit(train.iloc[:,0:9], train.iloc[:,9])\n",
    "\n"
   ]
  },
  {
   "cell_type": "code",
   "execution_count": 112,
   "metadata": {},
   "outputs": [],
   "source": [
    "# predicting\n",
    "\n",
    "pred_DT=regr_DT.predict(test.iloc[:,0:9])\n"
   ]
  },
  {
   "cell_type": "code",
   "execution_count": null,
   "metadata": {},
   "outputs": [],
   "source": []
  },
  {
   "cell_type": "code",
   "execution_count": 113,
   "metadata": {},
   "outputs": [],
   "source": [
    "#calcuate rmse value\n",
    "\n",
    "from sklearn.metrics import mean_squared_error\n",
    "from math import sqrt"
   ]
  },
  {
   "cell_type": "code",
   "execution_count": 114,
   "metadata": {},
   "outputs": [],
   "source": [
    "rmse = sqrt(mean_squared_error(test.iloc[:,9], pred_DT))"
   ]
  },
  {
   "cell_type": "code",
   "execution_count": 115,
   "metadata": {},
   "outputs": [
    {
     "data": {
      "text/plain": [
       "0.11060498640843083"
      ]
     },
     "execution_count": 115,
     "metadata": {},
     "output_type": "execute_result"
    }
   ],
   "source": [
    "rmse"
   ]
  },
  {
   "cell_type": "code",
   "execution_count": 95,
   "metadata": {},
   "outputs": [],
   "source": [
    "#rmse value is 12.49"
   ]
  },
  {
   "cell_type": "code",
   "execution_count": null,
   "metadata": {},
   "outputs": [],
   "source": []
  },
  {
   "cell_type": "markdown",
   "metadata": {},
   "source": [
    "#RANDOM FOREST"
   ]
  },
  {
   "cell_type": "code",
   "execution_count": 116,
   "metadata": {},
   "outputs": [],
   "source": [
    "# building model\n",
    "\n",
    "regr_RF = RandomForestRegressor(n_estimators=500,random_state=101).fit(train.iloc[:,0:9], train.iloc[:,9])"
   ]
  },
  {
   "cell_type": "code",
   "execution_count": 117,
   "metadata": {},
   "outputs": [],
   "source": [
    "pred_RF=regr_RF.predict(test.iloc[:,0:9])"
   ]
  },
  {
   "cell_type": "code",
   "execution_count": 118,
   "metadata": {},
   "outputs": [
    {
     "name": "stdout",
     "output_type": "stream",
     "text": [
      "0.12363266124149788\n"
     ]
    }
   ],
   "source": [
    "rmse = sqrt(mean_squared_error(test.iloc[:,9], pred_RF))\n",
    "print(rmse)"
   ]
  },
  {
   "cell_type": "code",
   "execution_count": 99,
   "metadata": {},
   "outputs": [],
   "source": [
    "#rmse=13.08"
   ]
  },
  {
   "cell_type": "code",
   "execution_count": null,
   "metadata": {},
   "outputs": [],
   "source": []
  },
  {
   "cell_type": "markdown",
   "metadata": {},
   "source": []
  },
  {
   "cell_type": "code",
   "execution_count": null,
   "metadata": {},
   "outputs": [],
   "source": [
    "# we fix the decision tree model as it hasless rmse value"
   ]
  },
  {
   "cell_type": "code",
   "execution_count": null,
   "metadata": {},
   "outputs": [],
   "source": []
  }
 ],
 "metadata": {
  "kernelspec": {
   "display_name": "Python 3",
   "language": "python",
   "name": "python3"
  },
  "language_info": {
   "codemirror_mode": {
    "name": "ipython",
    "version": 3
   },
   "file_extension": ".py",
   "mimetype": "text/x-python",
   "name": "python",
   "nbconvert_exporter": "python",
   "pygments_lexer": "ipython3",
   "version": "3.6.5"
  }
 },
 "nbformat": 4,
 "nbformat_minor": 2
}
